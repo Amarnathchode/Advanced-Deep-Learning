{
 "cells": [
  {
   "cell_type": "markdown",
   "metadata": {},
   "source": [
    "## Advanced Deep Learning with Keras in Python"
   ]
  },
  {
   "cell_type": "markdown",
   "metadata": {},
   "source": [
    "<img src=\"images/1.PNG\" style=\"width:950px;height:400px;\"> "
   ]
  },
  {
   "cell_type": "markdown",
   "metadata": {},
   "source": [
    "## 1 The Keras Functional API"
   ]
  },
  {
   "cell_type": "markdown",
   "metadata": {},
   "source": [
    "<img src=\"images/2.PNG\" style=\"width:950px;height:400px;\"> "
   ]
  },
  {
   "cell_type": "markdown",
   "metadata": {},
   "source": [
    "## 2 Two Input Networks Using Categorical Embeddings, Shared Layers, and Merge Layers "
   ]
  },
  {
   "cell_type": "markdown",
   "metadata": {},
   "source": [
    "<img src=\"images/3.PNG\" style=\"width:950px;height:500px;\"> "
   ]
  },
  {
   "cell_type": "markdown",
   "metadata": {},
   "source": [
    "## 3 Multiple Inputs: 3 Inputs (and Beyond!)"
   ]
  },
  {
   "cell_type": "markdown",
   "metadata": {},
   "source": [
    "<img src=\"images/4.PNG\" style=\"width:950px;height:500px;\"> "
   ]
  },
  {
   "cell_type": "markdown",
   "metadata": {},
   "source": [
    "## 4 Multiple Outputs"
   ]
  },
  {
   "cell_type": "markdown",
   "metadata": {},
   "source": [
    "<img src=\"images/5.PNG\" style=\"width:950px;height:500px;\"> "
   ]
  },
  {
   "cell_type": "markdown",
   "metadata": {},
   "source": [
    "<img src=\"images/6.PNG\" style=\"width:950px;height:500px;\"> "
   ]
  },
  {
   "cell_type": "markdown",
   "metadata": {},
   "source": [
    "## Keras input and dense layers"
   ]
  },
  {
   "cell_type": "markdown",
   "metadata": {},
   "source": [
    "<img src=\"images/7.PNG\" style=\"width:650px;height:300px;\"> "
   ]
  },
  {
   "cell_type": "markdown",
   "metadata": {},
   "source": [
    "<img src=\"images/8.PNG\" style=\"width:650px;height:300px;\"> "
   ]
  },
  {
   "cell_type": "markdown",
   "metadata": {},
   "source": [
    "<img src=\"images/9.PNG\" style=\"width:650px;height:300px;\"> "
   ]
  },
  {
   "cell_type": "markdown",
   "metadata": {},
   "source": [
    "## Inputs"
   ]
  },
  {
   "cell_type": "markdown",
   "metadata": {},
   "source": [
    "<img src=\"images/10.PNG\" style=\"width:650px;height:300px;\"> "
   ]
  },
  {
   "cell_type": "markdown",
   "metadata": {},
   "source": [
    "   - The number of columns in the input is specified using the shape parameter.\n",
    "   - This tells the model how much data to expect.\n",
    "   - The shape arugment expects a tuple."
   ]
  },
  {
   "cell_type": "markdown",
   "metadata": {},
   "source": [
    "<img src=\"images/11.PNG\" style=\"width:650px;height:300px;\"> "
   ]
  },
  {
   "cell_type": "markdown",
   "metadata": {},
   "source": [
    "## Output"
   ]
  },
  {
   "cell_type": "markdown",
   "metadata": {},
   "source": [
    "<img src=\"images/12.PNG\" style=\"width:650px;height:300px;\"> "
   ]
  },
  {
   "cell_type": "markdown",
   "metadata": {},
   "source": [
    "   - Outputs in keras are most commonly a single dense layer, which specifies the shape of the expected output.\n",
    "   - In this case, we are expecting our model to predict a single value, so we pass one unit to the dense layer."
   ]
  },
  {
   "cell_type": "markdown",
   "metadata": {},
   "source": [
    "## The difference between layers and tensors is key to understand the Keras function API.\n",
    "   - Layers are used to construct a deep learning model.\n",
    "   - Tensor are used to define the data flow through the model."
   ]
  },
  {
   "cell_type": "markdown",
   "metadata": {},
   "source": [
    "<img src=\"images/13.PNG\" style=\"width:650px;height:300px;\"> "
   ]
  },
  {
   "cell_type": "markdown",
   "metadata": {},
   "source": [
    "   - Input layer defines a tensor, which we pass to the output_layer() function.  \n",
    "   - The final output of our model is tensor."
   ]
  },
  {
   "cell_type": "markdown",
   "metadata": {},
   "source": [
    "<img src=\"images/14.PNG\" style=\"width:650px;height:300px;\"> "
   ]
  },
  {
   "cell_type": "markdown",
   "metadata": {},
   "source": [
    "## Input layers\n",
    "\n",
    " - The first step in creating a neural network model is to define the Input layer. This layer takes in raw data, usually in the form of numpy arrays. The shape of the Input layer defines how many variables your neural network will use. For example, if the input data has 10 columns, you define an Input layer with a shape of (10,).\n",
    " \n",
    "In this case, you are only using one input in your network.\n",
    " \n",
    "## Instructions\n",
    "  - Import the Input layer function from keras.layers.\n",
    "  - Create an input layer of shape 1.\n"
   ]
  },
  {
   "cell_type": "code",
   "execution_count": 4,
   "metadata": {},
   "outputs": [
    {
     "name": "stderr",
     "output_type": "stream",
     "text": [
      "Using TensorFlow backend.\n"
     ]
    }
   ],
   "source": [
    "## Code \n",
    "# Import Input from keras.layers\n",
    "from keras.layers import Input\n",
    "\n",
    "# Create an input layer of shape 1\n",
    "input_tensor = Input(shape=(1,))"
   ]
  },
  {
   "cell_type": "markdown",
   "metadata": {},
   "source": [
    "## Remember that the input layer allows your model to load data."
   ]
  },
  {
   "cell_type": "markdown",
   "metadata": {},
   "source": [
    "## Dense layers"
   ]
  },
  {
   "cell_type": "markdown",
   "metadata": {},
   "source": [
    "   - Once you have an Input layer, the next step is to add a Dense layer.\n",
    "\n",
    "   - Dense layers learn a weight matrix, where the first dimension of the matrix is the dimension of the input data, and the second dimension is the dimension of the output data. Recall that your Input layer has a shape of 1. In this case, your output layer will also have a shape of 1. This means that the Dense layer will learn a 1x1 weight matrix.\n",
    "\n",
    "In this exercise, you will add a dense layer to your model, after the input layer.\n",
    "\n",
    "## Instructions\n",
    "\n",
    " - Import the Dense layer function from keras.layers.\n",
    " - Create a Dense layer with 1 unit.\n",
    " - Pass input_tensor to output_layer()"
   ]
  },
  {
   "cell_type": "code",
   "execution_count": 1,
   "metadata": {},
   "outputs": [
    {
     "name": "stderr",
     "output_type": "stream",
     "text": [
      "Using TensorFlow backend.\n"
     ]
    }
   ],
   "source": [
    "# Load layers\n",
    "from keras.layers import Input, Dense\n",
    "\n",
    "# Input layer\n",
    "input_tensor = Input(shape=(1,))\n",
    "\n",
    "# Dense layer\n",
    "output_layer = Dense(1)\n",
    "\n",
    "# Connect the dense layer to the input_tensor\n",
    "output_tensor = output_layer(input_tensor)"
   ]
  },
  {
   "cell_type": "markdown",
   "metadata": {},
   "source": [
    "## This network will take the input, apply a linear coefficient to it, and return the result"
   ]
  },
  {
   "cell_type": "markdown",
   "metadata": {},
   "source": [
    "## Output layers"
   ]
  },
  {
   "cell_type": "markdown",
   "metadata": {},
   "source": [
    " - Output layers are simply Dense layers! \n",
    " - Output layers are used to reduce the dimension of the inputs to the dimension of the outputs. \n",
    " - You'll learn more about output dimensions in chapter 4, but for now, you'll always use a single output in your neural networks, which is equivalent to Dense(1) or a dense layer with a single unit.\n",
    " \n",
    " \n",
    "## Instructions\n",
    "\n",
    "\n",
    "  - Import the Input and Dense functions from keras.layers.\n",
    "  - Create an input layer of shape 1.\n",
    "  - Again, create a dense layer with 1 unit and pass input_tensor directly to it.\n"
   ]
  },
  {
   "cell_type": "code",
   "execution_count": 2,
   "metadata": {},
   "outputs": [],
   "source": [
    "# Load layers\n",
    "from keras.layers import Input, Dense\n",
    "\n",
    "# Input layer\n",
    "input_tensor = Input(shape=(1,))\n",
    "\n",
    "# Create a dense layer and connect the dense layer to the input_tensor in one step\n",
    "# Note that we did this in 2 steps in the previous exercise, but are doing it in one step now\n",
    "output_tensor = Dense(1)(input_tensor)"
   ]
  },
  {
   "cell_type": "markdown",
   "metadata": {},
   "source": [
    " - One line to both create the layer function and then call it to produce a tensor."
   ]
  },
  {
   "cell_type": "markdown",
   "metadata": {},
   "source": [
    "## The output layer allows your model to make predictions."
   ]
  },
  {
   "cell_type": "markdown",
   "metadata": {},
   "source": [
    "## Build and compile a model"
   ]
  },
  {
   "cell_type": "markdown",
   "metadata": {},
   "source": [
    "<img src=\"images/15.PNG\" style=\"width:650px;height:300px;\"> "
   ]
  },
  {
   "cell_type": "markdown",
   "metadata": {},
   "source": [
    " - In this case, we only have a single input and a single output, which we directly pass to the mode\n",
    " - In case of mulitiple inputs an multiple outputs you will pass lists of inputs or list of outputs to the model."
   ]
  },
  {
   "cell_type": "markdown",
   "metadata": {},
   "source": [
    "## Compile a model"
   ]
  },
  {
   "cell_type": "markdown",
   "metadata": {},
   "source": [
    "<img src=\"images/16.PNG\" style=\"width:650px;height:300px;\"> "
   ]
  },
  {
   "cell_type": "markdown",
   "metadata": {},
   "source": [
    "## Summarize the model"
   ]
  },
  {
   "cell_type": "markdown",
   "metadata": {},
   "source": [
    "<img src=\"images/17.PNG\" style=\"width:650px;height:300px;\"> "
   ]
  },
  {
   "cell_type": "markdown",
   "metadata": {},
   "source": [
    "## Plot model Keras"
   ]
  },
  {
   "cell_type": "markdown",
   "metadata": {},
   "source": [
    "<img src=\"images/18.PNG\" style=\"width:850px;height:500px;\"> "
   ]
  },
  {
   "cell_type": "markdown",
   "metadata": {},
   "source": [
    "## Build a model"
   ]
  },
  {
   "cell_type": "markdown",
   "metadata": {},
   "source": [
    " - Once you've defined an input layer and an output layer, you can build a Keras model. The model object is how you tell Keras where the model starts and stops: where data comes in and where predictions come out.\n",
    " \n",
    "## Instructions\n",
    " - Import Model from keras.models to create a keras model.\n",
    " - Use the input layer and output layer you already defined as the model's input and output.\n"
   ]
  },
  {
   "cell_type": "code",
   "execution_count": 3,
   "metadata": {},
   "outputs": [],
   "source": [
    "# Input/dense/output layers\n",
    "from keras.layers import Input, Dense\n",
    "input_tensor = Input(shape=(1,))\n",
    "output_tensor = Dense(1)(input_tensor)\n",
    "\n",
    "# Build the model\n",
    "from keras.models import Model\n",
    "model = Model(input_tensor, output_tensor)"
   ]
  },
  {
   "cell_type": "markdown",
   "metadata": {},
   "source": [
    "## Compile a model\n",
    "\n",
    " - The final step in creating a model is compiling it. Now that you've created a model, you have to compile it before you can fit it to data. This finalizes your model, freezes all its settings, and prepares it to meet some data!\n",
    "\n",
    " - During compilation, you specify the optimizer to use for fitting the model to the data, and a loss function. 'adam' is a good default optimizer to use, and will generally work well. Loss function depends on the problem at hand. Mean squared error is a common loss function and will optimize for predicting the mean, as is done in least squares regression.\n",
    "\n",
    " - Mean absolute error optimizes for the median and is used in quantile regression. For this dataset, 'mean_absolute_error' works pretty well, so use it as your loss function.\n",
    " \n",
    "\n",
    "## Instructions\n",
    "  - Compile the model you created (model).\n",
    "  - Use the 'adam' optimizer.\n",
    "  - Use mean absolute error (or 'mean_absolute_error') loss.\n"
   ]
  },
  {
   "cell_type": "code",
   "execution_count": 4,
   "metadata": {},
   "outputs": [],
   "source": [
    "# Compile the model\n",
    "model.compile(optimizer='adam', loss='mean_absolute_error')"
   ]
  },
  {
   "cell_type": "markdown",
   "metadata": {},
   "source": [
    "## Visualize a model\n",
    "\n",
    " - Now that you've compiled the model, take a look a the result of your hard work! You can do this by looking at the model summary, as well as its plot.\n",
    "\n",
    " - The summary will tell you the names of the layers, as well as how many units they have and how many parameters are in the model.\n",
    "\n",
    " - The plot will show how the layers connect to each other.\n",
    " \n",
    " \n",
    "## Instructions\n",
    "  - Summarize the model.\n",
    "  - Plot the model.\n"
   ]
  },
  {
   "cell_type": "markdown",
   "metadata": {},
   "source": [
    "## pip install pydot"
   ]
  },
  {
   "cell_type": "code",
   "execution_count": 44,
   "metadata": {},
   "outputs": [
    {
     "ename": "ModuleNotFoundError",
     "evalue": "No module named 'pydot'",
     "output_type": "error",
     "traceback": [
      "\u001b[1;31m---------------------------------------------------------------------------\u001b[0m",
      "\u001b[1;31mModuleNotFoundError\u001b[0m                       Traceback (most recent call last)",
      "\u001b[1;32m<ipython-input-44-07d51fef13b9>\u001b[0m in \u001b[0;36m<module>\u001b[1;34m\u001b[0m\n\u001b[1;32m----> 1\u001b[1;33m \u001b[1;32mimport\u001b[0m \u001b[0mpydot\u001b[0m\u001b[1;33m\u001b[0m\u001b[1;33m\u001b[0m\u001b[0m\n\u001b[0m\u001b[0;32m      2\u001b[0m \u001b[1;32mfrom\u001b[0m \u001b[0mkeras\u001b[0m\u001b[1;33m.\u001b[0m\u001b[0mutils\u001b[0m\u001b[1;33m.\u001b[0m\u001b[0mvis_utils\u001b[0m \u001b[1;32mimport\u001b[0m \u001b[0mmodel_to_dot\u001b[0m\u001b[1;33m\u001b[0m\u001b[1;33m\u001b[0m\u001b[0m\n\u001b[0;32m      3\u001b[0m \u001b[0mkeras\u001b[0m\u001b[1;33m.\u001b[0m\u001b[0mutils\u001b[0m\u001b[1;33m.\u001b[0m\u001b[0mvis_utils\u001b[0m\u001b[1;33m.\u001b[0m\u001b[0mpydot\u001b[0m \u001b[1;33m=\u001b[0m \u001b[0mpydot\u001b[0m\u001b[1;33m\u001b[0m\u001b[1;33m\u001b[0m\u001b[0m\n",
      "\u001b[1;31mModuleNotFoundError\u001b[0m: No module named 'pydot'"
     ]
    }
   ],
   "source": [
    "import pydot\n",
    "from keras.utils.vis_utils import model_to_dot\n",
    "keras.utils.vis_utils.pydot = pydot"
   ]
  },
  {
   "cell_type": "code",
   "execution_count": 5,
   "metadata": {},
   "outputs": [
    {
     "name": "stdout",
     "output_type": "stream",
     "text": [
      "_________________________________________________________________\n",
      "Layer (type)                 Output Shape              Param #   \n",
      "=================================================================\n",
      "input_3 (InputLayer)         (None, 1)                 0         \n",
      "_________________________________________________________________\n",
      "dense_3 (Dense)              (None, 1)                 2         \n",
      "=================================================================\n",
      "Total params: 2\n",
      "Trainable params: 2\n",
      "Non-trainable params: 0\n",
      "_________________________________________________________________\n"
     ]
    },
    {
     "ename": "ImportError",
     "evalue": "Failed to import `pydot`. Please install `pydot`. For example with `pip install pydot`.",
     "output_type": "error",
     "traceback": [
      "\u001b[1;31m---------------------------------------------------------------------------\u001b[0m",
      "\u001b[1;31mImportError\u001b[0m                               Traceback (most recent call last)",
      "\u001b[1;32m<ipython-input-5-93618960e6af>\u001b[0m in \u001b[0;36m<module>\u001b[1;34m\u001b[0m\n\u001b[0;32m      8\u001b[0m \u001b[1;33m\u001b[0m\u001b[0m\n\u001b[0;32m      9\u001b[0m \u001b[1;31m# Plot the model\u001b[0m\u001b[1;33m\u001b[0m\u001b[1;33m\u001b[0m\u001b[1;33m\u001b[0m\u001b[0m\n\u001b[1;32m---> 10\u001b[1;33m \u001b[0mplot_model\u001b[0m\u001b[1;33m(\u001b[0m\u001b[0mmodel\u001b[0m\u001b[1;33m,\u001b[0m \u001b[0mto_file\u001b[0m\u001b[1;33m=\u001b[0m\u001b[1;34m'model.png'\u001b[0m\u001b[1;33m)\u001b[0m\u001b[1;33m\u001b[0m\u001b[1;33m\u001b[0m\u001b[0m\n\u001b[0m\u001b[0;32m     11\u001b[0m \u001b[1;33m\u001b[0m\u001b[0m\n\u001b[0;32m     12\u001b[0m \u001b[1;31m# Display the image\u001b[0m\u001b[1;33m\u001b[0m\u001b[1;33m\u001b[0m\u001b[1;33m\u001b[0m\u001b[0m\n",
      "\u001b[1;32m~\\AppData\\Local\\Continuum\\anaconda\\lib\\site-packages\\keras\\utils\\vis_utils.py\u001b[0m in \u001b[0;36mplot_model\u001b[1;34m(model, to_file, show_shapes, show_layer_names, rankdir)\u001b[0m\n\u001b[0;32m    130\u001b[0m             \u001b[1;34m'LR'\u001b[0m \u001b[0mcreates\u001b[0m \u001b[0ma\u001b[0m \u001b[0mhorizontal\u001b[0m \u001b[0mplot\u001b[0m\u001b[1;33m.\u001b[0m\u001b[1;33m\u001b[0m\u001b[1;33m\u001b[0m\u001b[0m\n\u001b[0;32m    131\u001b[0m     \"\"\"\n\u001b[1;32m--> 132\u001b[1;33m     \u001b[0mdot\u001b[0m \u001b[1;33m=\u001b[0m \u001b[0mmodel_to_dot\u001b[0m\u001b[1;33m(\u001b[0m\u001b[0mmodel\u001b[0m\u001b[1;33m,\u001b[0m \u001b[0mshow_shapes\u001b[0m\u001b[1;33m,\u001b[0m \u001b[0mshow_layer_names\u001b[0m\u001b[1;33m,\u001b[0m \u001b[0mrankdir\u001b[0m\u001b[1;33m)\u001b[0m\u001b[1;33m\u001b[0m\u001b[1;33m\u001b[0m\u001b[0m\n\u001b[0m\u001b[0;32m    133\u001b[0m     \u001b[0m_\u001b[0m\u001b[1;33m,\u001b[0m \u001b[0mextension\u001b[0m \u001b[1;33m=\u001b[0m \u001b[0mos\u001b[0m\u001b[1;33m.\u001b[0m\u001b[0mpath\u001b[0m\u001b[1;33m.\u001b[0m\u001b[0msplitext\u001b[0m\u001b[1;33m(\u001b[0m\u001b[0mto_file\u001b[0m\u001b[1;33m)\u001b[0m\u001b[1;33m\u001b[0m\u001b[1;33m\u001b[0m\u001b[0m\n\u001b[0;32m    134\u001b[0m     \u001b[1;32mif\u001b[0m \u001b[1;32mnot\u001b[0m \u001b[0mextension\u001b[0m\u001b[1;33m:\u001b[0m\u001b[1;33m\u001b[0m\u001b[1;33m\u001b[0m\u001b[0m\n",
      "\u001b[1;32m~\\AppData\\Local\\Continuum\\anaconda\\lib\\site-packages\\keras\\utils\\vis_utils.py\u001b[0m in \u001b[0;36mmodel_to_dot\u001b[1;34m(model, show_shapes, show_layer_names, rankdir)\u001b[0m\n\u001b[0;32m     53\u001b[0m     \u001b[1;32mfrom\u001b[0m \u001b[1;33m.\u001b[0m\u001b[1;33m.\u001b[0m\u001b[0mmodels\u001b[0m \u001b[1;32mimport\u001b[0m \u001b[0mSequential\u001b[0m\u001b[1;33m\u001b[0m\u001b[1;33m\u001b[0m\u001b[0m\n\u001b[0;32m     54\u001b[0m \u001b[1;33m\u001b[0m\u001b[0m\n\u001b[1;32m---> 55\u001b[1;33m     \u001b[0m_check_pydot\u001b[0m\u001b[1;33m(\u001b[0m\u001b[1;33m)\u001b[0m\u001b[1;33m\u001b[0m\u001b[1;33m\u001b[0m\u001b[0m\n\u001b[0m\u001b[0;32m     56\u001b[0m     \u001b[0mdot\u001b[0m \u001b[1;33m=\u001b[0m \u001b[0mpydot\u001b[0m\u001b[1;33m.\u001b[0m\u001b[0mDot\u001b[0m\u001b[1;33m(\u001b[0m\u001b[1;33m)\u001b[0m\u001b[1;33m\u001b[0m\u001b[1;33m\u001b[0m\u001b[0m\n\u001b[0;32m     57\u001b[0m     \u001b[0mdot\u001b[0m\u001b[1;33m.\u001b[0m\u001b[0mset\u001b[0m\u001b[1;33m(\u001b[0m\u001b[1;34m'rankdir'\u001b[0m\u001b[1;33m,\u001b[0m \u001b[0mrankdir\u001b[0m\u001b[1;33m)\u001b[0m\u001b[1;33m\u001b[0m\u001b[1;33m\u001b[0m\u001b[0m\n",
      "\u001b[1;32m~\\AppData\\Local\\Continuum\\anaconda\\lib\\site-packages\\keras\\utils\\vis_utils.py\u001b[0m in \u001b[0;36m_check_pydot\u001b[1;34m()\u001b[0m\n\u001b[0;32m     18\u001b[0m     \u001b[1;32mif\u001b[0m \u001b[0mpydot\u001b[0m \u001b[1;32mis\u001b[0m \u001b[1;32mNone\u001b[0m\u001b[1;33m:\u001b[0m\u001b[1;33m\u001b[0m\u001b[1;33m\u001b[0m\u001b[0m\n\u001b[0;32m     19\u001b[0m         raise ImportError(\n\u001b[1;32m---> 20\u001b[1;33m             \u001b[1;34m'Failed to import `pydot`. '\u001b[0m\u001b[1;33m\u001b[0m\u001b[1;33m\u001b[0m\u001b[0m\n\u001b[0m\u001b[0;32m     21\u001b[0m             \u001b[1;34m'Please install `pydot`. '\u001b[0m\u001b[1;33m\u001b[0m\u001b[1;33m\u001b[0m\u001b[0m\n\u001b[0;32m     22\u001b[0m             'For example with `pip install pydot`.')\n",
      "\u001b[1;31mImportError\u001b[0m: Failed to import `pydot`. Please install `pydot`. For example with `pip install pydot`."
     ]
    }
   ],
   "source": [
    "# Import the plotting function\n",
    "from keras.utils import plot_model\n",
    "import matplotlib.pyplot as plt\n",
    "\n",
    "\n",
    "# Summarize the model\n",
    "model.summary()\n",
    "\n",
    "# Plot the model\n",
    "plot_model(model, to_file='model.png')\n",
    "\n",
    "# Display the image\n",
    "data = plt.imread('model.png')\n",
    "plt.imshow(data)\n",
    "plt.show()"
   ]
  },
  {
   "cell_type": "markdown",
   "metadata": {},
   "source": [
    "## Fit and evaluate a model"
   ]
  },
  {
   "cell_type": "markdown",
   "metadata": {},
   "source": [
    "<img src=\"images/19.PNG\" style=\"width:650px;height:300px;\"> "
   ]
  },
  {
   "cell_type": "markdown",
   "metadata": {},
   "source": [
    "<img src=\"images/20.PNG\" style=\"width:650px;height:300px;\"> "
   ]
  },
  {
   "cell_type": "markdown",
   "metadata": {},
   "source": [
    "<img src=\"images/21.PNG\" style=\"width:650px;height:300px;\"> "
   ]
  },
  {
   "cell_type": "markdown",
   "metadata": {},
   "source": [
    "<img src=\"images/22.PNG\" style=\"width:650px;height:300px;\"> "
   ]
  },
  {
   "cell_type": "markdown",
   "metadata": {},
   "source": [
    "<img src=\"images/23.PNG\" style=\"width:650px;height:300px;\"> "
   ]
  },
  {
   "cell_type": "markdown",
   "metadata": {},
   "source": [
    "<img src=\"images/24.PNG\" style=\"width:650px;height:300px;\"> "
   ]
  },
  {
   "cell_type": "markdown",
   "metadata": {},
   "source": [
    "<img src=\"images/25.PNG\" style=\"width:650px;height:300px;\"> "
   ]
  },
  {
   "cell_type": "markdown",
   "metadata": {},
   "source": [
    "<img src=\"images/26.PNG\" style=\"width:650px;height:300px;\"> "
   ]
  },
  {
   "cell_type": "code",
   "execution_count": 54,
   "metadata": {},
   "outputs": [
    {
     "data": {
      "text/html": [
       "<div>\n",
       "<style scoped>\n",
       "    .dataframe tbody tr th:only-of-type {\n",
       "        vertical-align: middle;\n",
       "    }\n",
       "\n",
       "    .dataframe tbody tr th {\n",
       "        vertical-align: top;\n",
       "    }\n",
       "\n",
       "    .dataframe thead th {\n",
       "        text-align: right;\n",
       "    }\n",
       "</style>\n",
       "<table border=\"1\" class=\"dataframe\">\n",
       "  <thead>\n",
       "    <tr style=\"text-align: right;\">\n",
       "      <th></th>\n",
       "      <th>season</th>\n",
       "      <th>team_1</th>\n",
       "      <th>team_2</th>\n",
       "      <th>home</th>\n",
       "      <th>score_diff</th>\n",
       "      <th>score_1</th>\n",
       "      <th>score_2</th>\n",
       "      <th>won</th>\n",
       "    </tr>\n",
       "  </thead>\n",
       "  <tbody>\n",
       "    <tr>\n",
       "      <th>0</th>\n",
       "      <td>1985</td>\n",
       "      <td>3745</td>\n",
       "      <td>6664</td>\n",
       "      <td>0</td>\n",
       "      <td>17</td>\n",
       "      <td>81</td>\n",
       "      <td>64</td>\n",
       "      <td>1</td>\n",
       "    </tr>\n",
       "    <tr>\n",
       "      <th>1</th>\n",
       "      <td>1985</td>\n",
       "      <td>126</td>\n",
       "      <td>7493</td>\n",
       "      <td>1</td>\n",
       "      <td>7</td>\n",
       "      <td>77</td>\n",
       "      <td>70</td>\n",
       "      <td>1</td>\n",
       "    </tr>\n",
       "    <tr>\n",
       "      <th>2</th>\n",
       "      <td>1985</td>\n",
       "      <td>288</td>\n",
       "      <td>3593</td>\n",
       "      <td>1</td>\n",
       "      <td>7</td>\n",
       "      <td>63</td>\n",
       "      <td>56</td>\n",
       "      <td>1</td>\n",
       "    </tr>\n",
       "    <tr>\n",
       "      <th>3</th>\n",
       "      <td>1985</td>\n",
       "      <td>1846</td>\n",
       "      <td>9881</td>\n",
       "      <td>1</td>\n",
       "      <td>16</td>\n",
       "      <td>70</td>\n",
       "      <td>54</td>\n",
       "      <td>1</td>\n",
       "    </tr>\n",
       "    <tr>\n",
       "      <th>4</th>\n",
       "      <td>1985</td>\n",
       "      <td>2675</td>\n",
       "      <td>10298</td>\n",
       "      <td>1</td>\n",
       "      <td>12</td>\n",
       "      <td>86</td>\n",
       "      <td>74</td>\n",
       "      <td>1</td>\n",
       "    </tr>\n",
       "  </tbody>\n",
       "</table>\n",
       "</div>"
      ],
      "text/plain": [
       "   season  team_1  team_2  home  score_diff  score_1  score_2  won\n",
       "0    1985    3745    6664     0          17       81       64    1\n",
       "1    1985     126    7493     1           7       77       70    1\n",
       "2    1985     288    3593     1           7       63       56    1\n",
       "3    1985    1846    9881     1          16       70       54    1\n",
       "4    1985    2675   10298     1          12       86       74    1"
      ]
     },
     "execution_count": 54,
     "metadata": {},
     "output_type": "execute_result"
    }
   ],
   "source": [
    "import pandas as pd\n",
    "games_games_season = pd.read_csv('datasets/games_season.csv')\n",
    "games_games_season.head()"
   ]
  },
  {
   "cell_type": "code",
   "execution_count": 46,
   "metadata": {},
   "outputs": [
    {
     "data": {
      "text/html": [
       "<div>\n",
       "<style scoped>\n",
       "    .dataframe tbody tr th:only-of-type {\n",
       "        vertical-align: middle;\n",
       "    }\n",
       "\n",
       "    .dataframe tbody tr th {\n",
       "        vertical-align: top;\n",
       "    }\n",
       "\n",
       "    .dataframe thead th {\n",
       "        text-align: right;\n",
       "    }\n",
       "</style>\n",
       "<table border=\"1\" class=\"dataframe\">\n",
       "  <thead>\n",
       "    <tr style=\"text-align: right;\">\n",
       "      <th></th>\n",
       "      <th>season</th>\n",
       "      <th>team_1</th>\n",
       "      <th>team_2</th>\n",
       "      <th>home</th>\n",
       "      <th>seed_diff</th>\n",
       "      <th>score_diff</th>\n",
       "      <th>score_1</th>\n",
       "      <th>score_2</th>\n",
       "      <th>won</th>\n",
       "    </tr>\n",
       "  </thead>\n",
       "  <tbody>\n",
       "    <tr>\n",
       "      <th>0</th>\n",
       "      <td>1985</td>\n",
       "      <td>288</td>\n",
       "      <td>73</td>\n",
       "      <td>0</td>\n",
       "      <td>-3</td>\n",
       "      <td>-9</td>\n",
       "      <td>41</td>\n",
       "      <td>50</td>\n",
       "      <td>0</td>\n",
       "    </tr>\n",
       "    <tr>\n",
       "      <th>1</th>\n",
       "      <td>1985</td>\n",
       "      <td>5929</td>\n",
       "      <td>73</td>\n",
       "      <td>0</td>\n",
       "      <td>4</td>\n",
       "      <td>6</td>\n",
       "      <td>61</td>\n",
       "      <td>55</td>\n",
       "      <td>1</td>\n",
       "    </tr>\n",
       "    <tr>\n",
       "      <th>2</th>\n",
       "      <td>1985</td>\n",
       "      <td>9884</td>\n",
       "      <td>73</td>\n",
       "      <td>0</td>\n",
       "      <td>5</td>\n",
       "      <td>-4</td>\n",
       "      <td>59</td>\n",
       "      <td>63</td>\n",
       "      <td>0</td>\n",
       "    </tr>\n",
       "    <tr>\n",
       "      <th>3</th>\n",
       "      <td>1985</td>\n",
       "      <td>73</td>\n",
       "      <td>288</td>\n",
       "      <td>0</td>\n",
       "      <td>3</td>\n",
       "      <td>9</td>\n",
       "      <td>50</td>\n",
       "      <td>41</td>\n",
       "      <td>1</td>\n",
       "    </tr>\n",
       "    <tr>\n",
       "      <th>4</th>\n",
       "      <td>1985</td>\n",
       "      <td>3920</td>\n",
       "      <td>410</td>\n",
       "      <td>0</td>\n",
       "      <td>1</td>\n",
       "      <td>-9</td>\n",
       "      <td>54</td>\n",
       "      <td>63</td>\n",
       "      <td>0</td>\n",
       "    </tr>\n",
       "  </tbody>\n",
       "</table>\n",
       "</div>"
      ],
      "text/plain": [
       "   season  team_1  team_2  home  seed_diff  score_diff  score_1  score_2  won\n",
       "0    1985     288      73     0         -3          -9       41       50    0\n",
       "1    1985    5929      73     0          4           6       61       55    1\n",
       "2    1985    9884      73     0          5          -4       59       63    0\n",
       "3    1985      73     288     0          3           9       50       41    1\n",
       "4    1985    3920     410     0          1          -9       54       63    0"
      ]
     },
     "execution_count": 46,
     "metadata": {},
     "output_type": "execute_result"
    }
   ],
   "source": [
    "games_tourney = pd.read_csv('datasets/games_tourney.csv')\n",
    "games_tourney.head()"
   ]
  },
  {
   "cell_type": "markdown",
   "metadata": {},
   "source": [
    "## Build the model"
   ]
  },
  {
   "cell_type": "code",
   "execution_count": 47,
   "metadata": {},
   "outputs": [],
   "source": [
    "from keras.models import Model\n",
    "from keras.layers import Input, Dense\n",
    "input_tensor = Input(shape=(1,))\n",
    "output_tensor = Dense(1)(input_tensor)\n",
    "model = Model(input_tensor, output_tensor)\n",
    "model.compile(optimizer='adam', loss='mae')"
   ]
  },
  {
   "cell_type": "markdown",
   "metadata": {},
   "source": [
    "## Fit the model"
   ]
  },
  {
   "cell_type": "markdown",
   "metadata": {},
   "source": [
    " - Fit the model to the tournament basketball data\n",
    "\n",
    " - Now that the model is compiled, you are ready to fit it to some data!\n",
    "\n",
    " - In this exercise, you'll use a dataset of scores from US College Basketball tournament games. Each row of the dataset has the team ids: team_1 and team_2, as integers. It also has the seed difference between the teams (seeds are assigned by the tournament committee and represent a ranking of how strong the teams are) and the score difference of the game (e.g. if team_1 wins by 5 points, the score difference is 5).\n",
    "\n",
    " - To fit the model, you provide a matrix of X variables (in this case one column: the seed difference) and a matrix of Y variables (in this case one column: the score difference).\n",
    "\n",
    " - The games_tourney DataFrame along with the compiled model object is available in your workspace.\n",
    " \n",
    "\n",
    "## Instructions\n",
    "\n",
    "   - Fit the model with seed_diff as the input variable and score_diff as the output variable.\n",
    "   - Use 1 epoch, a batch size of 128, and a 10% validation split.\n"
   ]
  },
  {
   "cell_type": "code",
   "execution_count": 48,
   "metadata": {},
   "outputs": [
    {
     "name": "stdout",
     "output_type": "stream",
     "text": [
      "Train on 3810 samples, validate on 424 samples\n",
      "Epoch 1/1\n",
      "3810/3810 [==============================] - 0s 57us/step - loss: 9.2000 - val_loss: 8.8008\n"
     ]
    },
    {
     "data": {
      "text/plain": [
       "<keras.callbacks.History at 0x10d14198>"
      ]
     },
     "execution_count": 48,
     "metadata": {},
     "output_type": "execute_result"
    }
   ],
   "source": [
    "# Now fit the model\n",
    "model.fit(games_tourney['seed_diff'], games_tourney['score_diff'],\n",
    "          epochs=1,\n",
    "          batch_size=128,\n",
    "          validation_split=0.10,\n",
    "          verbose=True)"
   ]
  },
  {
   "cell_type": "markdown",
   "metadata": {},
   "source": [
    "## Evaluate the model on a test set"
   ]
  },
  {
   "cell_type": "markdown",
   "metadata": {},
   "source": [
    " - After fitting the model, you can evaluate it on new data. You will give the model a new X matrix (also called test data), allow it to make predictions, and then compare to the known y variable (also called target data).\n",
    "\n",
    " - In this case, you'll use data from the post-season tournament to evaluate your model. The tournament games happen after the regular season games you used to train our model, and are therefore a good evaluation of how well your model performs out-of-sample.\n",
    "\n",
    " - The games_tourney_test DataFrame along with the fitted model object is available in your workspace.\n",
    " \n",
    " \n",
    "### Instructions\n",
    " - Assign the test data (seed_diff column) to X_test.\n",
    " - Assign the target data (score_diff column) to y_test.\n",
    " - Evaluate the model on X_test and y_test.\n"
   ]
  },
  {
   "cell_type": "code",
   "execution_count": 49,
   "metadata": {},
   "outputs": [
    {
     "name": "stdout",
     "output_type": "stream",
     "text": [
      "4234/4234 [==============================] - 0s 10us/step\n"
     ]
    },
    {
     "data": {
      "text/plain": [
       "9.156618082247425"
      ]
     },
     "execution_count": 49,
     "metadata": {},
     "output_type": "execute_result"
    }
   ],
   "source": [
    "# Load the X variable from the test data\n",
    "X_test = games_tourney['seed_diff']\n",
    "\n",
    "# Load the y variable from the test data\n",
    "y_test = games_tourney['score_diff']\n",
    "\n",
    "# Evaluate the model on the test data\n",
    "model.evaluate(X_test, y_test)"
   ]
  },
  {
   "cell_type": "markdown",
   "metadata": {},
   "source": [
    "## 2 Two Input Networks Using Categorical Embeddings, Shared Layers, and Merge Layers"
   ]
  },
  {
   "cell_type": "markdown",
   "metadata": {},
   "source": [
    "   - In this chapter, you will build two-input networks that use categorical embeddings to represent high-cardinality data, shared layers to specify re-usable building blocks, and merge layers to join multiple inputs to a single output. By the end of this chapter, you will have the foundational building blocks for designing neural networks with complex data flows."
   ]
  },
  {
   "cell_type": "markdown",
   "metadata": {},
   "source": [
    " - However, we have a much bigger dataset with over 300,000 regular seasons games "
   ]
  },
  {
   "cell_type": "markdown",
   "metadata": {},
   "source": [
    "## category embedding "
   ]
  },
  {
   "cell_type": "markdown",
   "metadata": {},
   "source": [
    "<img src=\"images/27.PNG\" style=\"width:650px;height:300px;\"> \n",
    "\n",
    "\n"
   ]
  },
  {
   "cell_type": "markdown",
   "metadata": {},
   "source": [
    " - **Categorical Embedding** are an **advanced type of layer**, only available in Deep Learning Libraries.\n",
    " - They are extremely useful for **dealing with high cardinality categorical data**.\n",
    " - In this data set the team ID variable has **high cardinality**.\n",
    " - Embedding layers are also useful dealing with text data, such as **Word2Vec** models.\n",
    " \n",
    " \n",
    "To Map the integer team ID's to a decimal rating, we use an embedding layer."
   ]
  },
  {
   "cell_type": "markdown",
   "metadata": {},
   "source": [
    "## To get started with category embeddings, you will need an input layer.\n",
    "   - In this case, your input is a single number, ranging from 1 to 10,887, which represent each team unique id.\n",
    "   - data set has about 400 unique schools, giving us close to 12,000 ID's.\n",
    "   - **To Create a embedding layer, use the Embedding() function from the keras.** \n",
    "   "
   ]
  },
  {
   "cell_type": "markdown",
   "metadata": {},
   "source": [
    "<img src=\"images/28.PNG\" style=\"width:650px;height:300px;\"> \n",
    "\n",
    "\n"
   ]
  },
  {
   "cell_type": "markdown",
   "metadata": {},
   "source": [
    "<img src=\"images/29.PNG\" > \n",
    "\n",
    "\n"
   ]
  },
  {
   "cell_type": "markdown",
   "metadata": {},
   "source": [
    "## Embedding layers increase the dimensionality of your data.\n",
    " - the input CSV has two dimensions(row and columns), But embedding layers add a third dimension.\n",
    " - This third dimension can be useful when dealing with images and text.\n",
    " - So we use the **flatten layer to flatten the embedding from 3D to 2D**.\n",
    " - The flatten layer is also the output layer for the embedding process.\n",
    " - **Flatten layers are useful for dealing with time series data, Text data and images**.\n",
    " "
   ]
  },
  {
   "cell_type": "markdown",
   "metadata": {},
   "source": [
    "<img src=\"images/30.PNG\"> \n",
    "\n",
    "\n"
   ]
  },
  {
   "cell_type": "markdown",
   "metadata": {},
   "source": [
    "## Shared layers"
   ]
  },
  {
   "cell_type": "markdown",
   "metadata": {},
   "source": [
    "## Define team lookup\n",
    "\n",
    " - **Shared layers allow a model to use the same weight matrix for multiple steps**. \n",
    " - In this exercise, you will build a \"team strength\" layer that represents each team by a single number. \n",
    " - You will use this number for both teams in the model. The model will learn a number for each team that works well both when the team is team_1 and when the team is team_2 in the input data.\n",
    "\n",
    "The games_season DataFrame is available in your workspace."
   ]
  },
  {
   "cell_type": "markdown",
   "metadata": {},
   "source": [
    "## Instructions\n",
    "\n",
    "   - Count the number of unique teams.\n",
    "   - Create an embedding layer that maps each team ID to a single number representing that team's strength.\n",
    "   - The output shape should be 1 dimension (as we want to represent the teams by a single number).\n",
    "   - The input length should be 1 dimension (as each team is represented by exactly one id).\n"
   ]
  },
  {
   "cell_type": "code",
   "execution_count": 6,
   "metadata": {},
   "outputs": [
    {
     "data": {
      "text/html": [
       "<div>\n",
       "<style scoped>\n",
       "    .dataframe tbody tr th:only-of-type {\n",
       "        vertical-align: middle;\n",
       "    }\n",
       "\n",
       "    .dataframe tbody tr th {\n",
       "        vertical-align: top;\n",
       "    }\n",
       "\n",
       "    .dataframe thead th {\n",
       "        text-align: right;\n",
       "    }\n",
       "</style>\n",
       "<table border=\"1\" class=\"dataframe\">\n",
       "  <thead>\n",
       "    <tr style=\"text-align: right;\">\n",
       "      <th></th>\n",
       "      <th>season</th>\n",
       "      <th>team_1</th>\n",
       "      <th>team_2</th>\n",
       "      <th>home</th>\n",
       "      <th>score_diff</th>\n",
       "      <th>score_1</th>\n",
       "      <th>score_2</th>\n",
       "      <th>won</th>\n",
       "    </tr>\n",
       "  </thead>\n",
       "  <tbody>\n",
       "    <tr>\n",
       "      <th>0</th>\n",
       "      <td>1985</td>\n",
       "      <td>3745</td>\n",
       "      <td>6664</td>\n",
       "      <td>0</td>\n",
       "      <td>17</td>\n",
       "      <td>81</td>\n",
       "      <td>64</td>\n",
       "      <td>1</td>\n",
       "    </tr>\n",
       "    <tr>\n",
       "      <th>1</th>\n",
       "      <td>1985</td>\n",
       "      <td>126</td>\n",
       "      <td>7493</td>\n",
       "      <td>1</td>\n",
       "      <td>7</td>\n",
       "      <td>77</td>\n",
       "      <td>70</td>\n",
       "      <td>1</td>\n",
       "    </tr>\n",
       "    <tr>\n",
       "      <th>2</th>\n",
       "      <td>1985</td>\n",
       "      <td>288</td>\n",
       "      <td>3593</td>\n",
       "      <td>1</td>\n",
       "      <td>7</td>\n",
       "      <td>63</td>\n",
       "      <td>56</td>\n",
       "      <td>1</td>\n",
       "    </tr>\n",
       "    <tr>\n",
       "      <th>3</th>\n",
       "      <td>1985</td>\n",
       "      <td>1846</td>\n",
       "      <td>9881</td>\n",
       "      <td>1</td>\n",
       "      <td>16</td>\n",
       "      <td>70</td>\n",
       "      <td>54</td>\n",
       "      <td>1</td>\n",
       "    </tr>\n",
       "    <tr>\n",
       "      <th>4</th>\n",
       "      <td>1985</td>\n",
       "      <td>2675</td>\n",
       "      <td>10298</td>\n",
       "      <td>1</td>\n",
       "      <td>12</td>\n",
       "      <td>86</td>\n",
       "      <td>74</td>\n",
       "      <td>1</td>\n",
       "    </tr>\n",
       "  </tbody>\n",
       "</table>\n",
       "</div>"
      ],
      "text/plain": [
       "   season  team_1  team_2  home  score_diff  score_1  score_2  won\n",
       "0    1985    3745    6664     0          17       81       64    1\n",
       "1    1985     126    7493     1           7       77       70    1\n",
       "2    1985     288    3593     1           7       63       56    1\n",
       "3    1985    1846    9881     1          16       70       54    1\n",
       "4    1985    2675   10298     1          12       86       74    1"
      ]
     },
     "execution_count": 6,
     "metadata": {},
     "output_type": "execute_result"
    }
   ],
   "source": [
    "import pandas as pd\n",
    "games_season = pd.read_csv('datasets/games_season.csv')\n",
    "games_season.head()"
   ]
  },
  {
   "cell_type": "code",
   "execution_count": 7,
   "metadata": {},
   "outputs": [
    {
     "name": "stdout",
     "output_type": "stream",
     "text": [
      "10888\n"
     ]
    }
   ],
   "source": [
    "# Imports\n",
    "from keras.layers import Embedding\n",
    "from numpy import unique\n",
    "\n",
    "# Count the unique number of teams\n",
    "n_teams = unique(games_season[['team_1','team_2']]).shape[0]\n",
    "print(n_teams)\n",
    "# Create an embedding layer\n",
    "team_lookup = Embedding(input_dim=n_teams,\n",
    "                        output_dim=1,\n",
    "                        input_length=1,\n",
    "                        name='Team-Strength')"
   ]
  },
  {
   "cell_type": "markdown",
   "metadata": {},
   "source": [
    "## The embedding layer is a lot like a dictionary, but your model learns the values for each key."
   ]
  },
  {
   "cell_type": "markdown",
   "metadata": {},
   "source": [
    "## Define team model\n",
    "\n",
    " - The team strength lookup has three components: an input, an embedding layer, and a flatten layer that creates the output.\n",
    "\n",
    " - If you wrap these three layers in a model with an input and output, **you can re-use that stack of three layers at multiple places**.\n",
    "\n",
    " - Note again that the weights for all three layers will be shared everywhere we use them."
   ]
  },
  {
   "cell_type": "markdown",
   "metadata": {},
   "source": [
    "## Instructions\n",
    " - Create a 1D input layer for the team ID (which will be an integer). Be sure to set the correct input shape!\n",
    " - Pass this input to the team strength lookup layer you created previously.\n",
    " - Flatten the output of the team strength lookup.\n",
    " - Create a model that uses the 1D input as input and flattened team strength as output.\n"
   ]
  },
  {
   "cell_type": "code",
   "execution_count": 52,
   "metadata": {},
   "outputs": [],
   "source": [
    "# Imports\n",
    "from keras.layers import Input, Embedding, Flatten\n",
    "from keras.models import Model\n",
    "\n",
    "# Create an input layer for the team ID\n",
    "teamid_in = Input(shape=(1,))\n",
    "\n",
    "# Lookup the input in the team strength embedding layer\n",
    "strength_lookup = team_lookup(teamid_in)\n",
    "\n",
    "# Flatten the output\n",
    "strength_lookup_flat = Flatten()(strength_lookup)\n",
    "\n",
    "# Combine the operations into a single, re-usable model\n",
    "team_strength_model = Model(teamid_in, strength_lookup_flat, name='Team-Strength-Model')"
   ]
  },
  {
   "cell_type": "markdown",
   "metadata": {},
   "source": [
    "## The model will be reusable, so you can use it in two places in your final model."
   ]
  },
  {
   "cell_type": "markdown",
   "metadata": {},
   "source": [
    "## 2.1 Shared layer\n",
    "In this chapter, you will create a model with two inputs: one for each team in the basketball dataset\n",
    "   - However, you want these two teams to each use the same embedding layer you defined in the previous lesson.\n",
    "   - **Accomplishing this requires a shared layer**.\n",
    "   - ** Shared layers are an advanced Deep learning concept, and are only possible with the keras functional API**.\n",
    "   - they allow you to define an operation and then apply the exact same operation(with exact same weight) on differnt inputs.\n",
    "   - In this model, we will share team rating for both inputs.\n",
    "   - The learned rating will be same, whether it applies to team1 ot team2.\n",
    "   - ** To create a shared layer, you must first create two inputs, each will be passed to the shared layers**.\n",
    "   "
   ]
  },
  {
   "cell_type": "markdown",
   "metadata": {},
   "source": [
    "<img src=\"images/31.PNG\" > \n",
    "\n",
    "\n"
   ]
  },
  {
   "cell_type": "markdown",
   "metadata": {},
   "source": [
    "<img src=\"images/32.PNG\" > \n",
    "\n",
    "\n"
   ]
  },
  {
   "cell_type": "markdown",
   "metadata": {},
   "source": [
    "<img src=\"images/33.PNG\" > \n",
    "\n",
    "\n"
   ]
  },
  {
   "cell_type": "markdown",
   "metadata": {},
   "source": [
    "<img src=\"images/34.PNG\" > \n",
    "\n",
    "\n"
   ]
  },
  {
   "cell_type": "markdown",
   "metadata": {},
   "source": [
    "## Defining two inputs\n",
    " - In this exercise, you will define two input layers for the two teams in your model. This allows you to specify later in the model how the data from each team will be used differently.\n",
    " \n",
    " \n",
    "## Instructions\n",
    "  - Create an input layer to use for team 1. Recall that our input dimension is 1.\n",
    "  - Name the input \"Team-1-In\" so you can later distinguish it from team 2.\n",
    "  - Create an input layer to use for team 2, named \"Team-2-In\".\n"
   ]
  },
  {
   "cell_type": "code",
   "execution_count": 53,
   "metadata": {},
   "outputs": [],
   "source": [
    "# Load the input layer from keras.layers\n",
    "from keras.layers import Input\n",
    "\n",
    "# Input layer for team 1\n",
    "team_in_1 = Input(shape=(1,), name='Team-1-In')\n",
    "\n",
    "# Separate input layer for team 2\n",
    "team_in_2 = Input(shape=(1,), name='Team-2-In')"
   ]
  },
  {
   "cell_type": "markdown",
   "metadata": {},
   "source": [
    "## Lookup both inputs in the same model\n",
    "\n",
    " - Now that you have a team strength model and an input layer for each team, you can lookup the team inputs in the shared team strength model. The two inputs will share the same weights.\n",
    "\n",
    " - In this dataset, you have 10,888 unique teams. You want to learn a strength rating for each team, such that if any pair of teams plays each other, you can predict the score, even if those two teams have never played before. Furthermore, you want the strength rating to be the same, regardless of whether the team is the home team or the away team.\n",
    "\n",
    " - To achieve this, you use a shared layer, defined by the re-usable model (team_strength_model()) you built in exercise 3 and the two input layers (team_in_1 and team_in_2) from the previous exercise, all of which are available in your workspace."
   ]
  },
  {
   "cell_type": "code",
   "execution_count": 54,
   "metadata": {},
   "outputs": [],
   "source": [
    "# Lookup team 1 in the team strength model\n",
    "team_1_strength = team_strength_model(team_in_1)\n",
    "\n",
    "# Lookup team 2 in the team strength model\n",
    "team_2_strength = team_strength_model(team_in_2)"
   ]
  },
  {
   "cell_type": "markdown",
   "metadata": {},
   "source": [
    "## Merge Layers\n",
    "Now that you've got multiple inputs and a shared layer, you need to combine your inputs into single layer that you can use to pred a single output.  \n",
    "\n",
    "## This require a Merge layers\n",
    "\n",
    " - Merge layers allow you to define advanced, non-sequential network topologies.\n",
    " - There are many kinds of merge layers available in Keras Add, Subtract, Multiply, Concatenate.\n",
    " - Require them to be same shape.\n",
    " \n"
   ]
  },
  {
   "cell_type": "markdown",
   "metadata": {},
   "source": [
    "<img src=\"images/35.PNG\" > \n",
    "\n",
    "\n"
   ]
  },
  {
   "cell_type": "markdown",
   "metadata": {},
   "source": [
    "<img src=\"images/36.PNG\" > \n",
    "\n",
    "\n"
   ]
  },
  {
   "cell_type": "markdown",
   "metadata": {},
   "source": [
    "<img src=\"images/37.PNG\" > \n",
    "\n",
    "\n"
   ]
  },
  {
   "cell_type": "markdown",
   "metadata": {},
   "source": [
    "## Output layer using shared layer\n",
    "\n",
    " - Now that you've looked up how \"strong\" each team is, subtract the team strengths to determine which team is expected to win the game.\n",
    "\n",
    " - This is a bit like the seeds that the tournament committee uses, which are also a measure of team strength. But rather than using seed differences to predict score differences, you'll use the difference of your own team strength model to predict score differences.\n",
    "\n",
    " - The subtract layer will combine the weights from the two layers by subtracting them."
   ]
  },
  {
   "cell_type": "markdown",
   "metadata": {},
   "source": [
    "## Instructions\n",
    " - Import the Subtract layer from keras.layers.\n",
    " - Combine the two-team strength lookups you did earlier.\n"
   ]
  },
  {
   "cell_type": "code",
   "execution_count": 55,
   "metadata": {},
   "outputs": [],
   "source": [
    "# Import the Subtract layer from keras\n",
    "from keras.layers import Subtract\n",
    "\n",
    "# Create a subtract layer using the inputs from the previous exercise\n",
    "score_diff = Subtract()([team_1_strength, team_2_strength])"
   ]
  },
  {
   "cell_type": "markdown",
   "metadata": {},
   "source": [
    "## Model using two inputs and one output\n",
    "\n",
    "Now that you have your two inputs (team id 1 and team id 2) and output (score difference), you can wrap them up in a model so you can use it later for fitting to data and evaluating on new data.\n",
    "\n",
    "## Instructions\n",
    "   - Define a model with the two teams as inputs and use the score difference as the output.\n",
    "   - Compile the model with the 'adam' optimizer and 'mean_absolute_error' loss.\n"
   ]
  },
  {
   "cell_type": "code",
   "execution_count": 56,
   "metadata": {},
   "outputs": [],
   "source": [
    "# Imports\n",
    "from keras.layers import Subtract\n",
    "from keras.models import Model\n",
    "\n",
    "# Subtraction layer from previous exercise\n",
    "score_diff = Subtract()([team_1_strength, team_2_strength])\n",
    "\n",
    "# Create the model\n",
    "model = Model([team_in_1, team_in_2], score_diff)\n",
    "\n",
    "# Compile the model\n",
    "model.compile(optimizer='adam', loss='mean_absolute_error')"
   ]
  },
  {
   "cell_type": "markdown",
   "metadata": {},
   "source": [
    "## Predict from your model\n",
    "Keras models with multiple inputs work just like Keras models with single input.\n",
    " - They use the same fit, Evalaute, and predict methods.\n",
    " - The only differenrce is that all of those methods take lists of inputs rather then a single input.\n",
    " - "
   ]
  },
  {
   "cell_type": "markdown",
   "metadata": {},
   "source": [
    "<img src=\"images/38.PNG\" > \n",
    "\n",
    "\n"
   ]
  },
  {
   "cell_type": "markdown",
   "metadata": {},
   "source": [
    "<img src=\"images/39.PNG\" > \n",
    "\n",
    "\n"
   ]
  },
  {
   "cell_type": "markdown",
   "metadata": {},
   "source": [
    "<img src=\"images/40.PNG\" > "
   ]
  },
  {
   "cell_type": "markdown",
   "metadata": {},
   "source": [
    "## Fit the model to the regular season training data\n",
    "\n",
    "\n",
    " - Now that you've defined a complete team strength model, you can fit it to the basketball data! Since your model has two inputs now, you need to pass the input data as a list.\n",
    " \n",
    " \n",
    "## Instructions\n",
    " - Assign the 'team_1' and 'team_2' columns from games_season to input_1 and input_2, respectively.\n",
    " - Use 'score_diff' column from games_season as the target.\n",
    " - Fit the model using 1 epoch, a batch size of 2048, and a 10% validation split.\n"
   ]
  },
  {
   "cell_type": "code",
   "execution_count": 57,
   "metadata": {},
   "outputs": [
    {
     "name": "stdout",
     "output_type": "stream",
     "text": [
      "Train on 280960 samples, validate on 31218 samples\n",
      "Epoch 1/1\n",
      "280960/280960 [==============================] - 0s 2us/step - loss: 12.1201 - val_loss: 11.8385\n"
     ]
    },
    {
     "data": {
      "text/plain": [
       "<keras.callbacks.History at 0x11341e80>"
      ]
     },
     "execution_count": 57,
     "metadata": {},
     "output_type": "execute_result"
    }
   ],
   "source": [
    "# Get the team_1 column from the regular season data\n",
    "input_1 = games_season['team_1']\n",
    "\n",
    "# Get the team_2 column from the regular season data\n",
    "input_2 = games_season['team_2']\n",
    "\n",
    "# Fit the model to input 1 and 2, using score diff as a target\n",
    "model.fit([input_1, input_2],\n",
    "          games_season['score_diff'],\n",
    "          epochs=1,\n",
    "          batch_size=2048,\n",
    "          validation_split=0.10,\n",
    "          verbose=True)"
   ]
  },
  {
   "cell_type": "markdown",
   "metadata": {},
   "source": [
    "## Evaluate the model on the tournament test data\n",
    "\n",
    " - The model you fit to the regular season data (model) in the previous exercise and the tournament dataset (games_tourney) are available in your workspace.\n",
    "\n",
    " - In this exercise, you will evaluate the model on this new dataset. This evaluation will tell you how well you can predict the tournament games, based on a model trained with the regular season data. This is interesting because many teams play each other in the tournament that did not play in the regular season, so this is a very good check that your model is not overfitting."
   ]
  },
  {
   "cell_type": "code",
   "execution_count": 58,
   "metadata": {},
   "outputs": [
    {
     "name": "stdout",
     "output_type": "stream",
     "text": [
      "4234/4234 [==============================] - 0s 12us/step\n"
     ]
    },
    {
     "data": {
      "text/plain": [
       "11.680247329347923"
      ]
     },
     "execution_count": 58,
     "metadata": {},
     "output_type": "execute_result"
    }
   ],
   "source": [
    "# Get team_1 from the tournament data\n",
    "input_1 = games_tourney['team_1']\n",
    "\n",
    "# Get team_2 from the tournament data\n",
    "input_2 = games_tourney['team_2']\n",
    "\n",
    "# Evaluate the model using these inputs\n",
    "model.evaluate([input_1, input_2], games_tourney['score_diff'])"
   ]
  },
  {
   "cell_type": "markdown",
   "metadata": {},
   "source": [
    "## 3 Multiple Inputs: 3 Inputs (and Beyond!)\n",
    "\n",
    " - In this chapter, you will extend your 2-input model to 3 inputs, and learn how to use Keras' **summary and plot functions** to understand the parameters and topology of your neural networks. By the end of the chapter, you will understand how to extend a **2-input model to 3 inputs and beyond**."
   ]
  },
  {
   "cell_type": "markdown",
   "metadata": {},
   "source": [
    "## Three-input models\n",
    "Once you have learned how to work with two input networks,it is trivial to extend that knowledge to 3 or more input network\n",
    "   - Making a keras model with 3 input is almost exactly same as making a keras model with two inputs.\n",
    "     "
   ]
  },
  {
   "cell_type": "markdown",
   "metadata": {},
   "source": [
    "<img src=\"images/41.PNG\" > "
   ]
  },
  {
   "cell_type": "markdown",
   "metadata": {},
   "source": [
    "<img src=\"images/42.PNG\" > "
   ]
  },
  {
   "cell_type": "markdown",
   "metadata": {},
   "source": [
    "<img src=\"images/43.PNG\" > "
   ]
  },
  {
   "cell_type": "markdown",
   "metadata": {},
   "source": [
    "<img src=\"images/44.PNG\" > "
   ]
  },
  {
   "cell_type": "markdown",
   "metadata": {},
   "source": [
    "<img src=\"images/45.PNG\" > "
   ]
  },
  {
   "cell_type": "markdown",
   "metadata": {},
   "source": [
    "## Make an input layer for home vs. away\n",
    "\n",
    "\n",
    " - Now you will make an improvement to the model you used in the previous chapter for regular season games. You know there is a well-documented home-team advantage in basketball, so you will add a new input to your model to capture this effect.\n",
    "\n",
    " - This model will have **three inputs: team_id_1, team_id_2, and home**. The team IDs will be integers that you look up in your team strength model from the previous chapter, and home will be a binary variable, 1 if team_1 is playing at home, 0 if they are not.\n",
    "\n",
    " - The team_strength_model you used in the previous chapter has been loaded into your workspace. After applying it to each input, use a Concatenate layer to join the two team strengths and with the home vs away variable, and pass the result to a Dense layer.\n",
    " "
   ]
  },
  {
   "cell_type": "markdown",
   "metadata": {},
   "source": [
    "## Instructions\n",
    "\n",
    " - Create three inputs layers of shape 1, one each for team 1, team 2, and home vs away.\n",
    " - Lookup the team inputs in team_strength_model().\n",
    " - Concatenate the team strengths with the home input and pass to a Dense layer."
   ]
  },
  {
   "cell_type": "code",
   "execution_count": 59,
   "metadata": {},
   "outputs": [],
   "source": [
    "from keras.layers import concatenate\n",
    "# Create an Input for each team\n",
    "team_in_1 = Input(shape=(1,), name='Team-1-In')\n",
    "team_in_2 = Input(shape=(1,), name='Team-2-In')\n",
    "\n",
    "# Create an input for home vs away\n",
    "home_in = Input(shape=(1,), name='Home-In')\n",
    "\n",
    "# Lookup the team inputs in the team strength model\n",
    "team_1_strength = team_strength_model(team_in_1)\n",
    "team_2_strength = team_strength_model(team_in_2)\n",
    "\n",
    "# Combine the team strengths with the home input using a Concatenate layer, then add a Dense layer\n",
    "out = concatenate([team_1_strength, team_2_strength, home_in])\n",
    "out = Dense(1)(out)"
   ]
  },
  {
   "cell_type": "markdown",
   "metadata": {},
   "source": [
    "### Make a model and compile it\n",
    " - Now that you've input and output layers for the 3-input model, wrap them up in a Keras model class, and then compile the model, so you can fit it to data and use it to make predictions on new data."
   ]
  },
  {
   "cell_type": "markdown",
   "metadata": {},
   "source": [
    "## Instructions\n",
    " - Create a model using team_in_1, team_in_2, and home_in as inputs and out as the output.\n",
    " - Compile the model using the 'adam' optimizer and 'mean_absolute_error' as the loss function."
   ]
  },
  {
   "cell_type": "code",
   "execution_count": 60,
   "metadata": {},
   "outputs": [],
   "source": [
    "# Import the model class\n",
    "from keras.models import Model\n",
    "\n",
    "# Make a Model\n",
    "model = Model([team_in_1, team_in_2, home_in], out)\n",
    "\n",
    "# Compile the model\n",
    "model.compile(optimizer='adam', loss='mean_absolute_error')"
   ]
  },
  {
   "cell_type": "markdown",
   "metadata": {},
   "source": [
    "## Fit the model and evaluate\n",
    " - Now that you've defined a new model, fit it to the regular season basketball data.\n",
    " - Use the model you fit in the previous exercise (which was trained on the regular season data) and evaluate the model on data for tournament games (games_tourney)."
   ]
  },
  {
   "cell_type": "markdown",
   "metadata": {},
   "source": [
    "## Instructions\n",
    "\n",
    " - Fit the model to the games_season dataset, using 'team_1', 'team_2' and 'home' columns as inputs, and the 'score_diff' column as the target.\n",
    " - Fit the model using 1 epoch, 10% validation split and a batch size of 2048.\n",
    " - Evaluate the model on games_tourney, using the same inputs and outputs."
   ]
  },
  {
   "cell_type": "code",
   "execution_count": 61,
   "metadata": {},
   "outputs": [
    {
     "name": "stdout",
     "output_type": "stream",
     "text": [
      "Train on 280960 samples, validate on 31218 samples\n",
      "Epoch 1/1\n",
      "280960/280960 [==============================] - 1s 2us/step - loss: 12.0209 - val_loss: 12.2202\n",
      "4234/4234 [==============================] - 0s 11us/step\n"
     ]
    },
    {
     "data": {
      "text/plain": [
       "11.677241001931012"
      ]
     },
     "execution_count": 61,
     "metadata": {},
     "output_type": "execute_result"
    }
   ],
   "source": [
    "# Fit the model to the games_season dataset\n",
    "model.fit([games_season['team_1'], games_season['team_2'], games_season['home']],\n",
    "          games_season['score_diff'],\n",
    "          epochs=1,\n",
    "          verbose=True,\n",
    "          validation_split=.10,\n",
    "          batch_size=2048)\n",
    "\n",
    "# Evaluate the model on the games_tourney dataset\n",
    "model.evaluate([games_tourney['team_1'], games_tourney['team_2'], games_tourney['home']],\n",
    "               games_tourney['score_diff'])"
   ]
  },
  {
   "cell_type": "markdown",
   "metadata": {},
   "source": [
    "## Summarizing and plotting models\n"
   ]
  },
  {
   "cell_type": "markdown",
   "metadata": {},
   "source": [
    "The summary shows you all the layers in the model, as well as how many parameters each layer has.\n",
    " - Importantly, Keras models can have non-trainable parameters that are fixed and do not change, as well as trainable parameters, that are learned from the data when the model is fit.\n",
    " - Model with more trainable parameters are typicall more flexible.\n",
    " - This can also make them more prone to overfitting.\n",
    " - models with fewer trainable parameters are less flexible, but therefore less likely to overfit.\n",
    " - In this case the model has three inputs, since all three of them feed into one Dense layer, The model has four parameter(Input+ Bias).\n",
    " - "
   ]
  },
  {
   "cell_type": "markdown",
   "metadata": {},
   "source": [
    "<img src=\"images/46.PNG\" > "
   ]
  },
  {
   "cell_type": "markdown",
   "metadata": {},
   "source": [
    "## Slightly more complicated model\n",
    "\n",
    "<img src=\"images/47.PNG\" > "
   ]
  },
  {
   "cell_type": "markdown",
   "metadata": {},
   "source": [
    "<img src=\"images/48.PNG\" > "
   ]
  },
  {
   "cell_type": "markdown",
   "metadata": {},
   "source": [
    "## Model summaries\n",
    "\n",
    " - In this exercise, you will take a closer look at the summary of one of your **3-input models** available in your workspace as model. Note how many layers the model has, how many parameters it has, and how many of those parameters are trainable/non-trainable.\n"
   ]
  },
  {
   "cell_type": "code",
   "execution_count": 62,
   "metadata": {
    "scrolled": true
   },
   "outputs": [
    {
     "name": "stdout",
     "output_type": "stream",
     "text": [
      "__________________________________________________________________________________________________\n",
      "Layer (type)                    Output Shape         Param #     Connected to                     \n",
      "==================================================================================================\n",
      "Team-1-In (InputLayer)          (None, 1)            0                                            \n",
      "__________________________________________________________________________________________________\n",
      "Team-2-In (InputLayer)          (None, 1)            0                                            \n",
      "__________________________________________________________________________________________________\n",
      "Team-Strength-Model (Model)     (None, 1)            10888       Team-1-In[0][0]                  \n",
      "                                                                 Team-2-In[0][0]                  \n",
      "__________________________________________________________________________________________________\n",
      "Home-In (InputLayer)            (None, 1)            0                                            \n",
      "__________________________________________________________________________________________________\n",
      "concatenate_2 (Concatenate)     (None, 3)            0           Team-Strength-Model[3][0]        \n",
      "                                                                 Team-Strength-Model[4][0]        \n",
      "                                                                 Home-In[0][0]                    \n",
      "__________________________________________________________________________________________________\n",
      "dense_11 (Dense)                (None, 1)            4           concatenate_2[0][0]              \n",
      "==================================================================================================\n",
      "Total params: 10,892\n",
      "Trainable params: 10,892\n",
      "Non-trainable params: 0\n",
      "__________________________________________________________________________________________________\n"
     ]
    }
   ],
   "source": [
    "model.summary()"
   ]
  },
  {
   "cell_type": "markdown",
   "metadata": {},
   "source": [
    "## Plotting models\n",
    "\n",
    " - In addition to summarizing your model, you can also plot your model to get a more intuitive sense of it. Your model is available in the workspace.\n",
    " "
   ]
  },
  {
   "cell_type": "code",
   "execution_count": 63,
   "metadata": {},
   "outputs": [
    {
     "ename": "ImportError",
     "evalue": "Failed to import `pydot`. Please install `pydot`. For example with `pip install pydot`.",
     "output_type": "error",
     "traceback": [
      "\u001b[1;31m---------------------------------------------------------------------------\u001b[0m",
      "\u001b[1;31mImportError\u001b[0m                               Traceback (most recent call last)",
      "\u001b[1;32m<ipython-input-63-b4a082737eae>\u001b[0m in \u001b[0;36m<module>\u001b[1;34m\u001b[0m\n\u001b[0;32m      4\u001b[0m \u001b[1;33m\u001b[0m\u001b[0m\n\u001b[0;32m      5\u001b[0m \u001b[1;31m# Plot the model\u001b[0m\u001b[1;33m\u001b[0m\u001b[1;33m\u001b[0m\u001b[1;33m\u001b[0m\u001b[0m\n\u001b[1;32m----> 6\u001b[1;33m \u001b[0mplot_model\u001b[0m\u001b[1;33m(\u001b[0m\u001b[0mmodel\u001b[0m\u001b[1;33m,\u001b[0m \u001b[0mto_file\u001b[0m\u001b[1;33m=\u001b[0m\u001b[1;34m'model.png'\u001b[0m\u001b[1;33m)\u001b[0m\u001b[1;33m\u001b[0m\u001b[1;33m\u001b[0m\u001b[0m\n\u001b[0m\u001b[0;32m      7\u001b[0m \u001b[1;33m\u001b[0m\u001b[0m\n\u001b[0;32m      8\u001b[0m \u001b[1;31m# Display the image\u001b[0m\u001b[1;33m\u001b[0m\u001b[1;33m\u001b[0m\u001b[1;33m\u001b[0m\u001b[0m\n",
      "\u001b[1;32m~\\AppData\\Local\\Continuum\\anaconda\\lib\\site-packages\\keras\\utils\\vis_utils.py\u001b[0m in \u001b[0;36mplot_model\u001b[1;34m(model, to_file, show_shapes, show_layer_names, rankdir)\u001b[0m\n\u001b[0;32m    130\u001b[0m             \u001b[1;34m'LR'\u001b[0m \u001b[0mcreates\u001b[0m \u001b[0ma\u001b[0m \u001b[0mhorizontal\u001b[0m \u001b[0mplot\u001b[0m\u001b[1;33m.\u001b[0m\u001b[1;33m\u001b[0m\u001b[1;33m\u001b[0m\u001b[0m\n\u001b[0;32m    131\u001b[0m     \"\"\"\n\u001b[1;32m--> 132\u001b[1;33m     \u001b[0mdot\u001b[0m \u001b[1;33m=\u001b[0m \u001b[0mmodel_to_dot\u001b[0m\u001b[1;33m(\u001b[0m\u001b[0mmodel\u001b[0m\u001b[1;33m,\u001b[0m \u001b[0mshow_shapes\u001b[0m\u001b[1;33m,\u001b[0m \u001b[0mshow_layer_names\u001b[0m\u001b[1;33m,\u001b[0m \u001b[0mrankdir\u001b[0m\u001b[1;33m)\u001b[0m\u001b[1;33m\u001b[0m\u001b[1;33m\u001b[0m\u001b[0m\n\u001b[0m\u001b[0;32m    133\u001b[0m     \u001b[0m_\u001b[0m\u001b[1;33m,\u001b[0m \u001b[0mextension\u001b[0m \u001b[1;33m=\u001b[0m \u001b[0mos\u001b[0m\u001b[1;33m.\u001b[0m\u001b[0mpath\u001b[0m\u001b[1;33m.\u001b[0m\u001b[0msplitext\u001b[0m\u001b[1;33m(\u001b[0m\u001b[0mto_file\u001b[0m\u001b[1;33m)\u001b[0m\u001b[1;33m\u001b[0m\u001b[1;33m\u001b[0m\u001b[0m\n\u001b[0;32m    134\u001b[0m     \u001b[1;32mif\u001b[0m \u001b[1;32mnot\u001b[0m \u001b[0mextension\u001b[0m\u001b[1;33m:\u001b[0m\u001b[1;33m\u001b[0m\u001b[1;33m\u001b[0m\u001b[0m\n",
      "\u001b[1;32m~\\AppData\\Local\\Continuum\\anaconda\\lib\\site-packages\\keras\\utils\\vis_utils.py\u001b[0m in \u001b[0;36mmodel_to_dot\u001b[1;34m(model, show_shapes, show_layer_names, rankdir)\u001b[0m\n\u001b[0;32m     53\u001b[0m     \u001b[1;32mfrom\u001b[0m \u001b[1;33m.\u001b[0m\u001b[1;33m.\u001b[0m\u001b[0mmodels\u001b[0m \u001b[1;32mimport\u001b[0m \u001b[0mSequential\u001b[0m\u001b[1;33m\u001b[0m\u001b[1;33m\u001b[0m\u001b[0m\n\u001b[0;32m     54\u001b[0m \u001b[1;33m\u001b[0m\u001b[0m\n\u001b[1;32m---> 55\u001b[1;33m     \u001b[0m_check_pydot\u001b[0m\u001b[1;33m(\u001b[0m\u001b[1;33m)\u001b[0m\u001b[1;33m\u001b[0m\u001b[1;33m\u001b[0m\u001b[0m\n\u001b[0m\u001b[0;32m     56\u001b[0m     \u001b[0mdot\u001b[0m \u001b[1;33m=\u001b[0m \u001b[0mpydot\u001b[0m\u001b[1;33m.\u001b[0m\u001b[0mDot\u001b[0m\u001b[1;33m(\u001b[0m\u001b[1;33m)\u001b[0m\u001b[1;33m\u001b[0m\u001b[1;33m\u001b[0m\u001b[0m\n\u001b[0;32m     57\u001b[0m     \u001b[0mdot\u001b[0m\u001b[1;33m.\u001b[0m\u001b[0mset\u001b[0m\u001b[1;33m(\u001b[0m\u001b[1;34m'rankdir'\u001b[0m\u001b[1;33m,\u001b[0m \u001b[0mrankdir\u001b[0m\u001b[1;33m)\u001b[0m\u001b[1;33m\u001b[0m\u001b[1;33m\u001b[0m\u001b[0m\n",
      "\u001b[1;32m~\\AppData\\Local\\Continuum\\anaconda\\lib\\site-packages\\keras\\utils\\vis_utils.py\u001b[0m in \u001b[0;36m_check_pydot\u001b[1;34m()\u001b[0m\n\u001b[0;32m     18\u001b[0m     \u001b[1;32mif\u001b[0m \u001b[0mpydot\u001b[0m \u001b[1;32mis\u001b[0m \u001b[1;32mNone\u001b[0m\u001b[1;33m:\u001b[0m\u001b[1;33m\u001b[0m\u001b[1;33m\u001b[0m\u001b[0m\n\u001b[0;32m     19\u001b[0m         raise ImportError(\n\u001b[1;32m---> 20\u001b[1;33m             \u001b[1;34m'Failed to import `pydot`. '\u001b[0m\u001b[1;33m\u001b[0m\u001b[1;33m\u001b[0m\u001b[0m\n\u001b[0m\u001b[0;32m     21\u001b[0m             \u001b[1;34m'Please install `pydot`. '\u001b[0m\u001b[1;33m\u001b[0m\u001b[1;33m\u001b[0m\u001b[0m\n\u001b[0;32m     22\u001b[0m             'For example with `pip install pydot`.')\n",
      "\u001b[1;31mImportError\u001b[0m: Failed to import `pydot`. Please install `pydot`. For example with `pip install pydot`."
     ]
    }
   ],
   "source": [
    "# Imports\n",
    "import matplotlib.pyplot as plt\n",
    "from keras.utils import plot_model\n",
    "\n",
    "# Plot the model\n",
    "plot_model(model, to_file='model.png')\n",
    "\n",
    "# Display the image\n",
    "data = print(to_file)\n",
    "\n",
    "plt.show()"
   ]
  },
  {
   "cell_type": "markdown",
   "metadata": {},
   "source": [
    "## Stacking models\n",
    "\n",
    "\"Stacking\" or using the predictions from one mnodel as an input to another model\n",
    " - **Model stacking is a very advanced data science concept, it is the most sophisticated way of combining models, and when doen right can yield some of the most accurate models in existance**\n",
    "\n",
    "## datasets:\n",
    " - The collage basketball data from the regular season and the collage basketball from the post-season tournament.\n",
    " - Both the datasets contain the two teams playing, whether **team 1** is home or away and the score difference of the games.\n",
    " - the tournament dataset additionally contain the difference in seeds of the two teams playing.\n",
    "\n"
   ]
  },
  {
   "cell_type": "markdown",
   "metadata": {},
   "source": [
    "## Stacking model\n",
    " - You start with the regular season dataset and fit a model to it.\n",
    " - You then predict on the tournament dataset, using this model.\n",
    " - this gives you predicted tournament outcomes, which you can now use to build model of the actual tournament outcomes.\n",
    " - The predictions from the regular season model capture the effect of team_1 and team_2, which means you now don't need to use those two variables in the tournament model, and can avoid the use of an embedding layer.\n",
    " \n",
    "<img src=\"images/49.PNG\" > \n",
    "\n",
    "**The only draw back of this approach is that all the inputs must be numeric**\n",
    "\n",
    "<img src=\"images/50.PNG\" > "
   ]
  },
  {
   "cell_type": "markdown",
   "metadata": {},
   "source": [
    "## Add the model predictions to the tournament data\n",
    "\n",
    " - In lesson 1 of this chapter, you used the regular season model to make predictions on the tournament dataset, and got pretty good results! Try to improve your predictions for the tournament by modeling it specifically.\n",
    "\n",
    " - You'll use the prediction from the regular season model as an input to the tournament model. This is a form of \"model stacking.\"\n",
    "\n",
    " - To start, take the regular season model from the previous lesson, and predict on the tournament data. Add this prediction to the tournament data as a new column.\n",
    " \n",
    " \n",
    "## Instructions\n",
    "\n",
    " - Use the model to predict on the games_tourney dataset. The model has three inputs: 'team_1', 'team_2', and 'home' columns.     - Assign the predictions to a new column, 'pred'.\n",
    "\n"
   ]
  },
  {
   "cell_type": "code",
   "execution_count": 64,
   "metadata": {},
   "outputs": [],
   "source": [
    "# Predict\n",
    "games_tourney['pred'] = model.predict([games_tourney['team_1'], \n",
    "                                             games_tourney['team_2'], \n",
    "                                             games_tourney['home']])"
   ]
  },
  {
   "cell_type": "markdown",
   "metadata": {},
   "source": [
    "## Create an input layer with multiple columns\n",
    "\n",
    " - In this exercise, you will look at a different way to **create models with multiple inputs**. \n",
    " - **This method only works for purely numeric data, but its a much simpler approach to making multi-variate neural networks**.\n",
    " - Now you have three numeric columns in the tournament dataset:**'seed_diff', 'home', and 'pred'**. \n",
    " - In this exercise, you will create a neural network that uses a **single input layer to process all three of these numeric inputs**.\n",
    " - This model should have a **single output to predict the tournament game score difference**.\n",
    " "
   ]
  },
  {
   "cell_type": "markdown",
   "metadata": {},
   "source": [
    "## Instructions\n",
    "\n",
    " - Create a single input layer with 3 columns.\n",
    " - Connect this input to a Dense layer with 1 unit.\n",
    " - Create a model with input_tensor as the input and output_tensor as the output.\n",
    " - Compile the model with 'adam' as the optimizer and 'mean_absolute_error' as the loss function."
   ]
  },
  {
   "cell_type": "code",
   "execution_count": 65,
   "metadata": {},
   "outputs": [],
   "source": [
    "# Create an input layer with 3 columns\n",
    "input_tensor = Input((3,))\n",
    "\n",
    "# Pass it to a Dense layer with 1 unit\n",
    "output_tensor = Dense(1)(input_tensor)\n",
    "\n",
    "# Create a model\n",
    "model = Model(input_tensor, output_tensor)\n",
    "\n",
    "# Compile the model\n",
    "model.compile(optimizer='adam', loss='mean_absolute_error')"
   ]
  },
  {
   "cell_type": "markdown",
   "metadata": {},
   "source": [
    "## Fit the model\n",
    "\n",
    " - Now that you've enriched the tournament dataset and built a model to make use of the new data, fit that model to the tournament data.\n",
    "\n",
    " - Note that this model has only one input layer that is capable of handling all 3 inputs, so it's inputs and outputs do not need to be a list.\n",
    "\n",
    " - Tournament games are split into a training set and a test set. **The tournament games before 2010 are in the training set**, and the **ones after 2010 are in the test set**."
   ]
  },
  {
   "cell_type": "markdown",
   "metadata": {},
   "source": [
    "## Instructions\n",
    "\n",
    "- Fit the model to the games_tourney_train dataset using 1 epoch.\n",
    "- The input columns are 'home', 'seed_diff', and 'pred'.\n",
    "- The target column is 'score_diff'."
   ]
  },
  {
   "cell_type": "code",
   "execution_count": 66,
   "metadata": {},
   "outputs": [
    {
     "data": {
      "text/html": [
       "<div>\n",
       "<style scoped>\n",
       "    .dataframe tbody tr th:only-of-type {\n",
       "        vertical-align: middle;\n",
       "    }\n",
       "\n",
       "    .dataframe tbody tr th {\n",
       "        vertical-align: top;\n",
       "    }\n",
       "\n",
       "    .dataframe thead th {\n",
       "        text-align: right;\n",
       "    }\n",
       "</style>\n",
       "<table border=\"1\" class=\"dataframe\">\n",
       "  <thead>\n",
       "    <tr style=\"text-align: right;\">\n",
       "      <th></th>\n",
       "      <th>season</th>\n",
       "      <th>team_1</th>\n",
       "      <th>team_2</th>\n",
       "      <th>home</th>\n",
       "      <th>seed_diff</th>\n",
       "      <th>score_diff</th>\n",
       "      <th>score_1</th>\n",
       "      <th>score_2</th>\n",
       "      <th>won</th>\n",
       "      <th>pred</th>\n",
       "    </tr>\n",
       "  </thead>\n",
       "  <tbody>\n",
       "    <tr>\n",
       "      <th>0</th>\n",
       "      <td>1985</td>\n",
       "      <td>288</td>\n",
       "      <td>73</td>\n",
       "      <td>0</td>\n",
       "      <td>-3</td>\n",
       "      <td>-9</td>\n",
       "      <td>41</td>\n",
       "      <td>50</td>\n",
       "      <td>0</td>\n",
       "      <td>0.163612</td>\n",
       "    </tr>\n",
       "    <tr>\n",
       "      <th>1</th>\n",
       "      <td>1985</td>\n",
       "      <td>5929</td>\n",
       "      <td>73</td>\n",
       "      <td>0</td>\n",
       "      <td>4</td>\n",
       "      <td>6</td>\n",
       "      <td>61</td>\n",
       "      <td>55</td>\n",
       "      <td>1</td>\n",
       "      <td>0.200548</td>\n",
       "    </tr>\n",
       "    <tr>\n",
       "      <th>2</th>\n",
       "      <td>1985</td>\n",
       "      <td>9884</td>\n",
       "      <td>73</td>\n",
       "      <td>0</td>\n",
       "      <td>5</td>\n",
       "      <td>-4</td>\n",
       "      <td>59</td>\n",
       "      <td>63</td>\n",
       "      <td>0</td>\n",
       "      <td>0.191497</td>\n",
       "    </tr>\n",
       "    <tr>\n",
       "      <th>3</th>\n",
       "      <td>1985</td>\n",
       "      <td>73</td>\n",
       "      <td>288</td>\n",
       "      <td>0</td>\n",
       "      <td>3</td>\n",
       "      <td>9</td>\n",
       "      <td>50</td>\n",
       "      <td>41</td>\n",
       "      <td>1</td>\n",
       "      <td>0.132147</td>\n",
       "    </tr>\n",
       "    <tr>\n",
       "      <th>4</th>\n",
       "      <td>1985</td>\n",
       "      <td>3920</td>\n",
       "      <td>410</td>\n",
       "      <td>0</td>\n",
       "      <td>1</td>\n",
       "      <td>-9</td>\n",
       "      <td>54</td>\n",
       "      <td>63</td>\n",
       "      <td>0</td>\n",
       "      <td>0.157973</td>\n",
       "    </tr>\n",
       "  </tbody>\n",
       "</table>\n",
       "</div>"
      ],
      "text/plain": [
       "   season  team_1  team_2  home  seed_diff  score_diff  score_1  score_2  won  \\\n",
       "0    1985     288      73     0         -3          -9       41       50    0   \n",
       "1    1985    5929      73     0          4           6       61       55    1   \n",
       "2    1985    9884      73     0          5          -4       59       63    0   \n",
       "3    1985      73     288     0          3           9       50       41    1   \n",
       "4    1985    3920     410     0          1          -9       54       63    0   \n",
       "\n",
       "       pred  \n",
       "0  0.163612  \n",
       "1  0.200548  \n",
       "2  0.191497  \n",
       "3  0.132147  \n",
       "4  0.157973  "
      ]
     },
     "execution_count": 66,
     "metadata": {},
     "output_type": "execute_result"
    }
   ],
   "source": [
    "games_tourney.head()"
   ]
  },
  {
   "cell_type": "code",
   "execution_count": 79,
   "metadata": {},
   "outputs": [
    {
     "data": {
      "text/html": [
       "<div>\n",
       "<style scoped>\n",
       "    .dataframe tbody tr th:only-of-type {\n",
       "        vertical-align: middle;\n",
       "    }\n",
       "\n",
       "    .dataframe tbody tr th {\n",
       "        vertical-align: top;\n",
       "    }\n",
       "\n",
       "    .dataframe thead th {\n",
       "        text-align: right;\n",
       "    }\n",
       "</style>\n",
       "<table border=\"1\" class=\"dataframe\">\n",
       "  <thead>\n",
       "    <tr style=\"text-align: right;\">\n",
       "      <th></th>\n",
       "      <th>season</th>\n",
       "      <th>team_1</th>\n",
       "      <th>team_2</th>\n",
       "      <th>home</th>\n",
       "      <th>seed_diff</th>\n",
       "      <th>score_diff</th>\n",
       "      <th>score_1</th>\n",
       "      <th>score_2</th>\n",
       "      <th>won</th>\n",
       "      <th>pred</th>\n",
       "    </tr>\n",
       "  </thead>\n",
       "  <tbody>\n",
       "    <tr>\n",
       "      <th>3163</th>\n",
       "      <td>2009</td>\n",
       "      <td>2902</td>\n",
       "      <td>10688</td>\n",
       "      <td>0</td>\n",
       "      <td>7</td>\n",
       "      <td>-2</td>\n",
       "      <td>59</td>\n",
       "      <td>61</td>\n",
       "      <td>0</td>\n",
       "      <td>0.166632</td>\n",
       "    </tr>\n",
       "    <tr>\n",
       "      <th>3164</th>\n",
       "      <td>2009</td>\n",
       "      <td>10810</td>\n",
       "      <td>10688</td>\n",
       "      <td>0</td>\n",
       "      <td>8</td>\n",
       "      <td>11</td>\n",
       "      <td>60</td>\n",
       "      <td>49</td>\n",
       "      <td>1</td>\n",
       "      <td>0.203057</td>\n",
       "    </tr>\n",
       "    <tr>\n",
       "      <th>3165</th>\n",
       "      <td>2009</td>\n",
       "      <td>7024</td>\n",
       "      <td>10810</td>\n",
       "      <td>0</td>\n",
       "      <td>3</td>\n",
       "      <td>5</td>\n",
       "      <td>60</td>\n",
       "      <td>55</td>\n",
       "      <td>1</td>\n",
       "      <td>0.158334</td>\n",
       "    </tr>\n",
       "    <tr>\n",
       "      <th>3166</th>\n",
       "      <td>2009</td>\n",
       "      <td>7078</td>\n",
       "      <td>10810</td>\n",
       "      <td>0</td>\n",
       "      <td>-9</td>\n",
       "      <td>-18</td>\n",
       "      <td>59</td>\n",
       "      <td>77</td>\n",
       "      <td>0</td>\n",
       "      <td>0.111178</td>\n",
       "    </tr>\n",
       "    <tr>\n",
       "      <th>3167</th>\n",
       "      <td>2009</td>\n",
       "      <td>10688</td>\n",
       "      <td>10810</td>\n",
       "      <td>0</td>\n",
       "      <td>-8</td>\n",
       "      <td>-11</td>\n",
       "      <td>49</td>\n",
       "      <td>60</td>\n",
       "      <td>0</td>\n",
       "      <td>0.098952</td>\n",
       "    </tr>\n",
       "  </tbody>\n",
       "</table>\n",
       "</div>"
      ],
      "text/plain": [
       "      season  team_1  team_2  home  seed_diff  score_diff  score_1  score_2  \\\n",
       "3163    2009    2902   10688     0          7          -2       59       61   \n",
       "3164    2009   10810   10688     0          8          11       60       49   \n",
       "3165    2009    7024   10810     0          3           5       60       55   \n",
       "3166    2009    7078   10810     0         -9         -18       59       77   \n",
       "3167    2009   10688   10810     0         -8         -11       49       60   \n",
       "\n",
       "      won      pred  \n",
       "3163    0  0.166632  \n",
       "3164    1  0.203057  \n",
       "3165    1  0.158334  \n",
       "3166    0  0.111178  \n",
       "3167    0  0.098952  "
      ]
     },
     "execution_count": 79,
     "metadata": {},
     "output_type": "execute_result"
    }
   ],
   "source": [
    "games_tourney_train = games_tourney[games_tourney['season'] < 2010]\n",
    "games_tourney_train.tail()  \n",
    "\n",
    "        "
   ]
  },
  {
   "cell_type": "code",
   "execution_count": 83,
   "metadata": {},
   "outputs": [
    {
     "data": {
      "text/html": [
       "<div>\n",
       "<style scoped>\n",
       "    .dataframe tbody tr th:only-of-type {\n",
       "        vertical-align: middle;\n",
       "    }\n",
       "\n",
       "    .dataframe tbody tr th {\n",
       "        vertical-align: top;\n",
       "    }\n",
       "\n",
       "    .dataframe thead th {\n",
       "        text-align: right;\n",
       "    }\n",
       "</style>\n",
       "<table border=\"1\" class=\"dataframe\">\n",
       "  <thead>\n",
       "    <tr style=\"text-align: right;\">\n",
       "      <th></th>\n",
       "      <th>season</th>\n",
       "      <th>team_1</th>\n",
       "      <th>team_2</th>\n",
       "      <th>home</th>\n",
       "      <th>seed_diff</th>\n",
       "      <th>score_diff</th>\n",
       "      <th>score_1</th>\n",
       "      <th>score_2</th>\n",
       "      <th>won</th>\n",
       "      <th>pred</th>\n",
       "    </tr>\n",
       "  </thead>\n",
       "  <tbody>\n",
       "    <tr>\n",
       "      <th>3168</th>\n",
       "      <td>2010</td>\n",
       "      <td>2365</td>\n",
       "      <td>401</td>\n",
       "      <td>0</td>\n",
       "      <td>15</td>\n",
       "      <td>29</td>\n",
       "      <td>73</td>\n",
       "      <td>44</td>\n",
       "      <td>1</td>\n",
       "      <td>0.223730</td>\n",
       "    </tr>\n",
       "    <tr>\n",
       "      <th>3169</th>\n",
       "      <td>2010</td>\n",
       "      <td>10655</td>\n",
       "      <td>401</td>\n",
       "      <td>0</td>\n",
       "      <td>0</td>\n",
       "      <td>-17</td>\n",
       "      <td>44</td>\n",
       "      <td>61</td>\n",
       "      <td>0</td>\n",
       "      <td>0.098897</td>\n",
       "    </tr>\n",
       "    <tr>\n",
       "      <th>3170</th>\n",
       "      <td>2010</td>\n",
       "      <td>2365</td>\n",
       "      <td>647</td>\n",
       "      <td>0</td>\n",
       "      <td>2</td>\n",
       "      <td>7</td>\n",
       "      <td>78</td>\n",
       "      <td>71</td>\n",
       "      <td>1</td>\n",
       "      <td>0.196799</td>\n",
       "    </tr>\n",
       "    <tr>\n",
       "      <th>3171</th>\n",
       "      <td>2010</td>\n",
       "      <td>6757</td>\n",
       "      <td>647</td>\n",
       "      <td>0</td>\n",
       "      <td>-8</td>\n",
       "      <td>-8</td>\n",
       "      <td>68</td>\n",
       "      <td>76</td>\n",
       "      <td>0</td>\n",
       "      <td>0.161127</td>\n",
       "    </tr>\n",
       "    <tr>\n",
       "      <th>3172</th>\n",
       "      <td>2010</td>\n",
       "      <td>7616</td>\n",
       "      <td>647</td>\n",
       "      <td>0</td>\n",
       "      <td>-11</td>\n",
       "      <td>-9</td>\n",
       "      <td>59</td>\n",
       "      <td>68</td>\n",
       "      <td>0</td>\n",
       "      <td>0.134733</td>\n",
       "    </tr>\n",
       "  </tbody>\n",
       "</table>\n",
       "</div>"
      ],
      "text/plain": [
       "      season  team_1  team_2  home  seed_diff  score_diff  score_1  score_2  \\\n",
       "3168    2010    2365     401     0         15          29       73       44   \n",
       "3169    2010   10655     401     0          0         -17       44       61   \n",
       "3170    2010    2365     647     0          2           7       78       71   \n",
       "3171    2010    6757     647     0         -8          -8       68       76   \n",
       "3172    2010    7616     647     0        -11          -9       59       68   \n",
       "\n",
       "      won      pred  \n",
       "3168    1  0.223730  \n",
       "3169    0  0.098897  \n",
       "3170    1  0.196799  \n",
       "3171    0  0.161127  \n",
       "3172    0  0.134733  "
      ]
     },
     "execution_count": 83,
     "metadata": {},
     "output_type": "execute_result"
    }
   ],
   "source": [
    "games_tourney_test = games_tourney[games_tourney['season'] >= 2010]\n",
    "games_tourney_test.head()"
   ]
  },
  {
   "cell_type": "code",
   "execution_count": null,
   "metadata": {},
   "outputs": [],
   "source": [
    "from sklearn.model_selection import train_test_split\n",
    "X_train, X_test, y_train, y_test = train_test_split(df, y, test_size=0.2)\n",
    "print X_train.shape, y_train.shape\n",
    "print X_test.shape, y_test.shape"
   ]
  },
  {
   "cell_type": "code",
   "execution_count": 80,
   "metadata": {},
   "outputs": [
    {
     "name": "stdout",
     "output_type": "stream",
     "text": [
      "Epoch 1/1\n",
      "3168/3168 [==============================] - 0s 77us/step - loss: 14.2156\n"
     ]
    },
    {
     "data": {
      "text/plain": [
       "<keras.callbacks.History at 0x11c937b8>"
      ]
     },
     "execution_count": 80,
     "metadata": {},
     "output_type": "execute_result"
    }
   ],
   "source": [
    "# Fit the model\n",
    "model.fit(games_tourney_train[['home', 'seed_diff','pred']],\n",
    "          games_tourney_train['score_diff'],\n",
    "          epochs=1,\n",
    "          verbose=True)"
   ]
  },
  {
   "cell_type": "code",
   "execution_count": 85,
   "metadata": {},
   "outputs": [
    {
     "name": "stdout",
     "output_type": "stream",
     "text": [
      "1066/1066 [==============================] - 0s 82us/step\n"
     ]
    },
    {
     "data": {
      "text/plain": [
       "13.110603488184944"
      ]
     },
     "execution_count": 85,
     "metadata": {},
     "output_type": "execute_result"
    }
   ],
   "source": [
    "# Evaluate the model on the games_tourney_test dataset\n",
    "model.evaluate(games_tourney_test[['home', 'seed_diff', 'pred']], \n",
    "               games_tourney_test['score_diff'])"
   ]
  },
  {
   "cell_type": "markdown",
   "metadata": {},
   "source": [
    "## 4 Multiple Outputs\n",
    "\n",
    "In this chapter, you will build neural networks with multiple outputs, which can be used to solve regression problems with multiple targets. You will also build a model that solves a regression problem and a classification problem simultaneously.\n"
   ]
  },
  {
   "cell_type": "markdown",
   "metadata": {},
   "source": [
    " - we'll cover neural networks with 2 outputs make predictions for2 target at once.\n",
    " - You could use a single model to predict the scores of both teams in a basketball or .\n",
    " - Use a single model to predict both the score difference and the Win/Loss outcome of that Game.\n",
    "\n",
    "<img src=\"images/51.PNG\" > "
   ]
  },
  {
   "cell_type": "markdown",
   "metadata": {},
   "source": [
    "<img src=\"images/52.PNG\" > "
   ]
  },
  {
   "cell_type": "markdown",
   "metadata": {},
   "source": [
    "<img src=\"images/53.PNG\" > "
   ]
  },
  {
   "cell_type": "markdown",
   "metadata": {},
   "source": [
    "<img src=\"images/54.PNG\" > "
   ]
  },
  {
   "cell_type": "markdown",
   "metadata": {},
   "source": [
    "<img src=\"images/55.PNG\" > "
   ]
  },
  {
   "cell_type": "markdown",
   "metadata": {},
   "source": [
    "## Simple two-output model\n",
    "\n",
    "- In this exercise, you will use the tournament data to build one model that makes two predictions: the scores of both teams in a given game. \n",
    "- Your **inputs will be the seed difference of the two teams**, as well as the predicted score difference from the model you built in chapter 3.\n",
    "\n",
    "- The output from your model will be the predicted score for team 1 as well as team 2. This is called \"**multiple target regression**\": one model making more than one prediction.\n",
    "\n",
    "\n",
    "## Instructions\n",
    "\n",
    " - Create a single input layer with 2 columns.\n",
    " - Connect this input to a Dense layer with 2 units.\n",
    " - Create a model with input_tensor as the input and output_tensor as the output.\n",
    " - Compile the model with 'adam' as the optimizer and 'mean_absolute_error' as the loss function."
   ]
  },
  {
   "cell_type": "code",
   "execution_count": 89,
   "metadata": {},
   "outputs": [],
   "source": [
    "# Define the input\n",
    "input_tensor = Input(shape=(2,))\n",
    "\n",
    "# Define the output\n",
    "output_tensor = Dense(2)(input_tensor)\n",
    "\n",
    "# Create a model\n",
    "model = Model(input_tensor, output_tensor)\n",
    "\n",
    "# Compile the model\n",
    "model.compile(loss='mean_absolute_error', optimizer='adam')"
   ]
  },
  {
   "cell_type": "markdown",
   "metadata": {},
   "source": [
    "## Fit a model with two outputs\n",
    "\n",
    "\n",
    "Now that you've defined your 2-output model, fit it to the tournament data. I've split the data into games_tourney_train and games_tourney_test, so use the training set to fit for now.\n",
    "\n",
    "This model will use the pre-tournament seeds, as well as your pre-tournament predictions from the regular season model you built previously in this course.\n",
    "\n",
    "As a reminder, this model will predict the scores of both teams.\n",
    "\n",
    "\n",
    "## Instructions\n",
    "\n",
    "Fit the model to the games_tourney_train dataset using 100 epochs and a batch size of 16384.\n",
    "The input columns are 'seed_diff', and 'pred'.\n",
    "The target columns are 'score_1' and 'score_2'.\n",
    "\n"
   ]
  },
  {
   "cell_type": "code",
   "execution_count": 90,
   "metadata": {},
   "outputs": [
    {
     "name": "stdout",
     "output_type": "stream",
     "text": [
      "Epoch 1/100\n",
      "3168/3168 [==============================] - 0s 72us/step - loss: 71.8957\n",
      "Epoch 2/100\n",
      "3168/3168 [==============================] - 0s 1us/step - loss: 71.8946\n",
      "Epoch 3/100\n",
      "3168/3168 [==============================] - 0s 1us/step - loss: 71.8934\n",
      "Epoch 4/100\n",
      "3168/3168 [==============================] - 0s 1us/step - loss: 71.8922\n",
      "Epoch 5/100\n",
      "3168/3168 [==============================] - 0s 1us/step - loss: 71.8911\n",
      "Epoch 6/100\n",
      "3168/3168 [==============================] - 0s 1us/step - loss: 71.8899\n",
      "Epoch 7/100\n",
      "3168/3168 [==============================] - 0s 1us/step - loss: 71.8888\n",
      "Epoch 8/100\n",
      "3168/3168 [==============================] - 0s 1us/step - loss: 71.8876\n",
      "Epoch 9/100\n",
      "3168/3168 [==============================] - 0s 1us/step - loss: 71.8864\n",
      "Epoch 10/100\n",
      "3168/3168 [==============================] - 0s 2us/step - loss: 71.8853\n",
      "Epoch 11/100\n",
      "3168/3168 [==============================] - 0s 1us/step - loss: 71.8841\n",
      "Epoch 12/100\n",
      "3168/3168 [==============================] - 0s 1us/step - loss: 71.8830\n",
      "Epoch 13/100\n",
      "3168/3168 [==============================] - 0s 1us/step - loss: 71.8818\n",
      "Epoch 14/100\n",
      "3168/3168 [==============================] - 0s 1us/step - loss: 71.8807\n",
      "Epoch 15/100\n",
      "3168/3168 [==============================] - 0s 1us/step - loss: 71.8795\n",
      "Epoch 16/100\n",
      "3168/3168 [==============================] - 0s 1us/step - loss: 71.8784\n",
      "Epoch 17/100\n",
      "3168/3168 [==============================] - 0s 1us/step - loss: 71.8772\n",
      "Epoch 18/100\n",
      "3168/3168 [==============================] - 0s 1us/step - loss: 71.8761\n",
      "Epoch 19/100\n",
      "3168/3168 [==============================] - 0s 1us/step - loss: 71.8749\n",
      "Epoch 20/100\n",
      "3168/3168 [==============================] - 0s 2us/step - loss: 71.8737\n",
      "Epoch 21/100\n",
      "3168/3168 [==============================] - 0s 1us/step - loss: 71.8726\n",
      "Epoch 22/100\n",
      "3168/3168 [==============================] - 0s 1us/step - loss: 71.8714\n",
      "Epoch 23/100\n",
      "3168/3168 [==============================] - 0s 1us/step - loss: 71.8703\n",
      "Epoch 24/100\n",
      "3168/3168 [==============================] - 0s 1us/step - loss: 71.8691\n",
      "Epoch 25/100\n",
      "3168/3168 [==============================] - 0s 1us/step - loss: 71.8680\n",
      "Epoch 26/100\n",
      "3168/3168 [==============================] - 0s 1us/step - loss: 71.8668\n",
      "Epoch 27/100\n",
      "3168/3168 [==============================] - 0s 1us/step - loss: 71.8657\n",
      "Epoch 28/100\n",
      "3168/3168 [==============================] - 0s 1us/step - loss: 71.8645\n",
      "Epoch 29/100\n",
      "3168/3168 [==============================] - 0s 2us/step - loss: 71.8633\n",
      "Epoch 30/100\n",
      "3168/3168 [==============================] - 0s 1us/step - loss: 71.8622\n",
      "Epoch 31/100\n",
      "3168/3168 [==============================] - 0s 1us/step - loss: 71.8610\n",
      "Epoch 32/100\n",
      "3168/3168 [==============================] - 0s 1us/step - loss: 71.8599\n",
      "Epoch 33/100\n",
      "3168/3168 [==============================] - 0s 1us/step - loss: 71.8587\n",
      "Epoch 34/100\n",
      "3168/3168 [==============================] - 0s 1us/step - loss: 71.8576\n",
      "Epoch 35/100\n",
      "3168/3168 [==============================] - 0s 1us/step - loss: 71.8564\n",
      "Epoch 36/100\n",
      "3168/3168 [==============================] - 0s 1us/step - loss: 71.8552\n",
      "Epoch 37/100\n",
      "3168/3168 [==============================] - 0s 1us/step - loss: 71.8541\n",
      "Epoch 38/100\n",
      "3168/3168 [==============================] - 0s 1us/step - loss: 71.8529\n",
      "Epoch 39/100\n",
      "3168/3168 [==============================] - 0s 1us/step - loss: 71.8518\n",
      "Epoch 40/100\n",
      "3168/3168 [==============================] - 0s 1us/step - loss: 71.8506\n",
      "Epoch 41/100\n",
      "3168/3168 [==============================] - 0s 1us/step - loss: 71.8495\n",
      "Epoch 42/100\n",
      "3168/3168 [==============================] - 0s 1us/step - loss: 71.8483\n",
      "Epoch 43/100\n",
      "3168/3168 [==============================] - 0s 1us/step - loss: 71.8471\n",
      "Epoch 44/100\n",
      "3168/3168 [==============================] - 0s 1us/step - loss: 71.8460\n",
      "Epoch 45/100\n",
      "3168/3168 [==============================] - 0s 1us/step - loss: 71.8448\n",
      "Epoch 46/100\n",
      "3168/3168 [==============================] - 0s 1us/step - loss: 71.8437\n",
      "Epoch 47/100\n",
      "3168/3168 [==============================] - 0s 1us/step - loss: 71.8425\n",
      "Epoch 48/100\n",
      "3168/3168 [==============================] - 0s 1us/step - loss: 71.8414\n",
      "Epoch 49/100\n",
      "3168/3168 [==============================] - 0s 1us/step - loss: 71.8402\n",
      "Epoch 50/100\n",
      "3168/3168 [==============================] - 0s 1us/step - loss: 71.8391\n",
      "Epoch 51/100\n",
      "3168/3168 [==============================] - 0s 1us/step - loss: 71.8379\n",
      "Epoch 52/100\n",
      "3168/3168 [==============================] - 0s 1us/step - loss: 71.8367\n",
      "Epoch 53/100\n",
      "3168/3168 [==============================] - 0s 1us/step - loss: 71.8356\n",
      "Epoch 54/100\n",
      "3168/3168 [==============================] - 0s 0us/step - loss: 71.8344\n",
      "Epoch 55/100\n",
      "3168/3168 [==============================] - 0s 0us/step - loss: 71.8333\n",
      "Epoch 56/100\n",
      "3168/3168 [==============================] - 0s 1us/step - loss: 71.8321\n",
      "Epoch 57/100\n",
      "3168/3168 [==============================] - 0s 1us/step - loss: 71.8310\n",
      "Epoch 58/100\n",
      "3168/3168 [==============================] - 0s 1us/step - loss: 71.8298\n",
      "Epoch 59/100\n",
      "3168/3168 [==============================] - 0s 1us/step - loss: 71.8287\n",
      "Epoch 60/100\n",
      "3168/3168 [==============================] - 0s 1us/step - loss: 71.8275\n",
      "Epoch 61/100\n",
      "3168/3168 [==============================] - 0s 1us/step - loss: 71.8263\n",
      "Epoch 62/100\n",
      "3168/3168 [==============================] - 0s 1us/step - loss: 71.8252\n",
      "Epoch 63/100\n",
      "3168/3168 [==============================] - 0s 1us/step - loss: 71.8240\n",
      "Epoch 64/100\n",
      "3168/3168 [==============================] - 0s 1us/step - loss: 71.8229\n",
      "Epoch 65/100\n",
      "3168/3168 [==============================] - 0s 1us/step - loss: 71.8217\n",
      "Epoch 66/100\n",
      "3168/3168 [==============================] - 0s 1us/step - loss: 71.8206\n",
      "Epoch 67/100\n",
      "3168/3168 [==============================] - 0s 1us/step - loss: 71.8194\n",
      "Epoch 68/100\n",
      "3168/3168 [==============================] - 0s 2us/step - loss: 71.8183\n",
      "Epoch 69/100\n",
      "3168/3168 [==============================] - 0s 1us/step - loss: 71.8171\n",
      "Epoch 70/100\n",
      "3168/3168 [==============================] - 0s 1us/step - loss: 71.8159\n",
      "Epoch 71/100\n",
      "3168/3168 [==============================] - 0s 1us/step - loss: 71.8148\n",
      "Epoch 72/100\n",
      "3168/3168 [==============================] - 0s 1us/step - loss: 71.8136\n",
      "Epoch 73/100\n",
      "3168/3168 [==============================] - 0s 1us/step - loss: 71.8125\n",
      "Epoch 74/100\n",
      "3168/3168 [==============================] - 0s 1us/step - loss: 71.8113\n",
      "Epoch 75/100\n",
      "3168/3168 [==============================] - 0s 1us/step - loss: 71.8102\n",
      "Epoch 76/100\n",
      "3168/3168 [==============================] - 0s 1us/step - loss: 71.8090\n",
      "Epoch 77/100\n",
      "3168/3168 [==============================] - 0s 1us/step - loss: 71.8079\n",
      "Epoch 78/100\n",
      "3168/3168 [==============================] - 0s 1us/step - loss: 71.8067\n",
      "Epoch 79/100\n",
      "3168/3168 [==============================] - 0s 1us/step - loss: 71.8055\n",
      "Epoch 80/100\n",
      "3168/3168 [==============================] - 0s 1us/step - loss: 71.8044\n",
      "Epoch 81/100\n",
      "3168/3168 [==============================] - 0s 1us/step - loss: 71.8032\n",
      "Epoch 82/100\n",
      "3168/3168 [==============================] - 0s 1us/step - loss: 71.8021\n",
      "Epoch 83/100\n",
      "3168/3168 [==============================] - 0s 1us/step - loss: 71.8009\n",
      "Epoch 84/100\n",
      "3168/3168 [==============================] - 0s 1us/step - loss: 71.7997\n",
      "Epoch 85/100\n",
      "3168/3168 [==============================] - 0s 1us/step - loss: 71.7986\n",
      "Epoch 86/100\n",
      "3168/3168 [==============================] - 0s 1us/step - loss: 71.7974\n",
      "Epoch 87/100\n",
      "3168/3168 [==============================] - 0s 1us/step - loss: 71.7963\n",
      "Epoch 88/100\n",
      "3168/3168 [==============================] - 0s 1us/step - loss: 71.7951\n",
      "Epoch 89/100\n",
      "3168/3168 [==============================] - 0s 0us/step - loss: 71.7940\n",
      "Epoch 90/100\n",
      "3168/3168 [==============================] - 0s 1us/step - loss: 71.7928\n",
      "Epoch 91/100\n",
      "3168/3168 [==============================] - 0s 1us/step - loss: 71.7917\n",
      "Epoch 92/100\n",
      "3168/3168 [==============================] - 0s 1us/step - loss: 71.7905\n",
      "Epoch 93/100\n",
      "3168/3168 [==============================] - 0s 0us/step - loss: 71.7894\n",
      "Epoch 94/100\n",
      "3168/3168 [==============================] - 0s 1us/step - loss: 71.7882\n",
      "Epoch 95/100\n",
      "3168/3168 [==============================] - 0s 1us/step - loss: 71.7870\n",
      "Epoch 96/100\n",
      "3168/3168 [==============================] - 0s 1us/step - loss: 71.7859\n"
     ]
    },
    {
     "name": "stdout",
     "output_type": "stream",
     "text": [
      "Epoch 97/100\n",
      "3168/3168 [==============================] - 0s 1us/step - loss: 71.7847\n",
      "Epoch 98/100\n",
      "3168/3168 [==============================] - 0s 1us/step - loss: 71.7836\n",
      "Epoch 99/100\n",
      "3168/3168 [==============================] - 0s 1us/step - loss: 71.7824\n",
      "Epoch 100/100\n",
      "3168/3168 [==============================] - 0s 1us/step - loss: 71.7813\n"
     ]
    },
    {
     "data": {
      "text/plain": [
       "<keras.callbacks.History at 0x12080470>"
      ]
     },
     "execution_count": 90,
     "metadata": {},
     "output_type": "execute_result"
    }
   ],
   "source": [
    "model.fit(games_tourney_train[['seed_diff', 'pred']],\n",
    "  \t\t  games_tourney_train[['score_1', 'score_2']],\n",
    "  \t\t  verbose=True,\n",
    "          epochs=100,\n",
    "  \t\t  batch_size=16384)"
   ]
  },
  {
   "cell_type": "markdown",
   "metadata": {},
   "source": [
    "## Inspect the model (I)\n",
    "\n",
    " - Now that you've fit your model, let's take a look at it. You can use the .get_weights() method to inspect your model's weights.\n",
    "\n",
    " - The input layer will have 4 weights: 2 for each input times 2 for each output.\n",
    "\n",
    " - The output layer will have 2 weights, one for each output."
   ]
  },
  {
   "cell_type": "markdown",
   "metadata": {},
   "source": [
    "## Instructions\n",
    "\n",
    " - Print the model's weights.\n",
    " - Print the column means of the training data (games_tourney_train)."
   ]
  },
  {
   "cell_type": "code",
   "execution_count": 92,
   "metadata": {},
   "outputs": [
    {
     "name": "stdout",
     "output_type": "stream",
     "text": [
      "[array([[ 0.33546776, -0.44695818],\n",
      "       [ 1.2787606 , -0.8660291 ]], dtype=float32), array([0.10004997, 0.10004997], dtype=float32)]\n",
      "season        1997.045455\n",
      "team_1        5546.025568\n",
      "team_2        5546.025568\n",
      "home             0.000000\n",
      "seed_diff        0.000000\n",
      "score_diff       0.000000\n",
      "score_1         71.912247\n",
      "score_2         71.912247\n",
      "won              0.500000\n",
      "pred             0.155596\n",
      "dtype: float64\n"
     ]
    }
   ],
   "source": [
    "# Print the model's weights\n",
    "print(model.get_weights())\n",
    "\n",
    "# Print the column means of the training data\n",
    "print(games_tourney_train.mean())"
   ]
  },
  {
   "cell_type": "markdown",
   "metadata": {},
   "source": [
    "## Did you notice that both output weights are about ~72? This is because, on average, a team will score about 72 points in the tournament."
   ]
  },
  {
   "cell_type": "markdown",
   "metadata": {},
   "source": [
    "## Evaluate the model\n",
    "\n",
    " - Now that you've fit your model and inspected it's weights to make sure it makes sense, evaluate it on the tournament test set to see how well it performs on new data."
   ]
  },
  {
   "cell_type": "markdown",
   "metadata": {},
   "source": [
    "## Instructions\n",
    "\n",
    "- Evaluate the model on games_tourney_test.\n",
    "- Use the same inputs and outputs as the training set."
   ]
  },
  {
   "cell_type": "code",
   "execution_count": 93,
   "metadata": {},
   "outputs": [
    {
     "name": "stdout",
     "output_type": "stream",
     "text": [
      "1066/1066 [==============================] - 0s 100us/step\n"
     ]
    },
    {
     "data": {
      "text/plain": [
       "68.67861587782068"
      ]
     },
     "execution_count": 93,
     "metadata": {},
     "output_type": "execute_result"
    }
   ],
   "source": [
    "model.evaluate(games_tourney_test[['seed_diff', 'pred']],\n",
    "               games_tourney_test[['score_1', 'score_2']])"
   ]
  },
  {
   "cell_type": "markdown",
   "metadata": {},
   "source": [
    "## Single model for classification and regression\n",
    "\n",
    "<img src=\"images/57.PNG\" > \n",
    "\n"
   ]
  },
  {
   "cell_type": "markdown",
   "metadata": {},
   "source": [
    "<img src=\"images/58.PNG\" > "
   ]
  },
  {
   "cell_type": "markdown",
   "metadata": {},
   "source": [
    "<img src=\"images/59.PNG\" > "
   ]
  },
  {
   "cell_type": "markdown",
   "metadata": {},
   "source": [
    "<img src=\"images/60.PNG\" > "
   ]
  },
  {
   "cell_type": "markdown",
   "metadata": {},
   "source": [
    "<img src=\"images/61.PNG\" > "
   ]
  },
  {
   "cell_type": "markdown",
   "metadata": {},
   "source": [
    "## Classification and regression in one model\n",
    "\n",
    "Now you will create a different kind of 2-output model. This time, you will predict the score difference, instead of both team's scores and then you will predict the probability that team 1 won the game. This is a pretty cool model: it is going to do both classification and regression!\n",
    "\n",
    "In this model, turn off the bias, or intercept for each layer. Your inputs (seed difference and predicted score difference) have a mean of very close to zero, and your outputs both have means that are close to zero, so your model shouldn't need the bias term to fit the data well."
   ]
  },
  {
   "cell_type": "markdown",
   "metadata": {},
   "source": [
    "## Instructions\n",
    "\n",
    "Create a single input layer with 2 columns.\n",
    "\n",
    "The first output layer should have 1 unit with 'linear' activation and no bias term.\n",
    "\n",
    "The second output layer should have 1 unit with 'sigmoid' activation and no bias term. Also, use the first output layer as an input to this layer.\n",
    "\n",
    "Create a model with these input and outputs."
   ]
  },
  {
   "cell_type": "code",
   "execution_count": 94,
   "metadata": {},
   "outputs": [],
   "source": [
    "# Create an input layer with 2 columns\n",
    "input_tensor = Input(shape=(2,))\n",
    "\n",
    "# Create the first output\n",
    "output_tensor_1 = Dense(1, activation='linear', use_bias=False)(input_tensor)\n",
    "\n",
    "# Create the second output (use the first output as input here)\n",
    "output_tensor_2 = Dense(1, activation='sigmoid', use_bias=False)(output_tensor_1)\n",
    "\n",
    "# Create a model with 2 outputs\n",
    "model = Model(input_tensor, [output_tensor_1, output_tensor_2])"
   ]
  },
  {
   "cell_type": "markdown",
   "metadata": {},
   "source": [
    "## Compile and fit the model\n",
    "\n",
    " - Now that you have a model with 2 outputs, compile it with 2 loss functions: mean absolute error (MAE) for 'score_diff' and binary cross-entropy (also known as logloss) for 'won'. Then fit the model with 'seed_diff' and 'pred' as inputs. For outputs, predict 'score_diff' and 'won'.\n",
    "\n",
    " - This model can use the scores of the games to make sure that close games (small score diff) have lower win probabilities than blowouts (large score diff).\n",
    "\n",
    " - The regression problem is easier than the classification problem because MAE punishes the model less for a loss due to random chance. For example, if score_diff is -1 and won is 0, that means team_1 had some bad luck and lost by a single free throw. The data for the easy problem helps the model find a solution to the hard problem.\n",
    " \n",
    " \n",
    "## Instructions\n",
    "\n",
    "- Import Adam from keras.optimizers.\n",
    "- Compile the model with 2 losses: 'mean_absolute_error' and 'binary_crossentropy', and use the Adam optimizer with a learning rate of 0.01.\n",
    "- Fit the model with 'seed_diff' and 'pred' columns as the inputs and 'score_diff' and 'won' columns as the targets.\n",
    "- Use 10 epochs and a batch size of 16384.\n"
   ]
  },
  {
   "cell_type": "code",
   "execution_count": 95,
   "metadata": {},
   "outputs": [
    {
     "name": "stdout",
     "output_type": "stream",
     "text": [
      "Epoch 1/10\n",
      "3168/3168 [==============================] - 0s 115us/step - loss: 16.5395 - dense_14_loss: 9.1985 - dense_15_loss: 7.3410\n",
      "Epoch 2/10\n",
      "3168/3168 [==============================] - 0s 0us/step - loss: 16.4776 - dense_14_loss: 9.2046 - dense_15_loss: 7.2730\n",
      "Epoch 3/10\n",
      "3168/3168 [==============================] - 0s 0us/step - loss: 16.4183 - dense_14_loss: 9.2111 - dense_15_loss: 7.2072\n",
      "Epoch 4/10\n",
      "3168/3168 [==============================] - 0s 2us/step - loss: 16.3596 - dense_14_loss: 9.2178 - dense_15_loss: 7.1418\n",
      "Epoch 5/10\n",
      "3168/3168 [==============================] - 0s 1us/step - loss: 16.3011 - dense_14_loss: 9.2246 - dense_15_loss: 7.0765\n",
      "Epoch 6/10\n",
      "3168/3168 [==============================] - 0s 2us/step - loss: 16.2432 - dense_14_loss: 9.2317 - dense_15_loss: 7.0114\n",
      "Epoch 7/10\n",
      "3168/3168 [==============================] - 0s 1us/step - loss: 16.1787 - dense_14_loss: 9.2394 - dense_15_loss: 6.9393\n",
      "Epoch 8/10\n",
      "3168/3168 [==============================] - 0s 1us/step - loss: 16.1147 - dense_14_loss: 9.2481 - dense_15_loss: 6.8666\n",
      "Epoch 9/10\n",
      "3168/3168 [==============================] - 0s 1us/step - loss: 16.0510 - dense_14_loss: 9.2570 - dense_15_loss: 6.7940\n",
      "Epoch 10/10\n",
      "3168/3168 [==============================] - 0s 2us/step - loss: 15.9785 - dense_14_loss: 9.2661 - dense_15_loss: 6.7124\n"
     ]
    },
    {
     "data": {
      "text/plain": [
       "<keras.callbacks.History at 0x122dad68>"
      ]
     },
     "execution_count": 95,
     "metadata": {},
     "output_type": "execute_result"
    }
   ],
   "source": [
    "# Import the Adam optimizer\n",
    "from keras.optimizers import Adam\n",
    "\n",
    "# Compile the model with 2 losses and the Adam optimzer with a higher learning rate\n",
    "model.compile(loss=['mean_absolute_error', 'binary_crossentropy'], optimizer=Adam(.01))\n",
    "\n",
    "# Fit the model to the tournament training data, with 2 inputs and 2 outputs\n",
    "model.fit(games_tourney_train[['seed_diff', 'pred']],\n",
    "          [games_tourney_train[['score_diff']], games_tourney_train[['won']]],\n",
    "          epochs=10,\n",
    "          verbose=True,\n",
    "          batch_size=16384)"
   ]
  },
  {
   "cell_type": "markdown",
   "metadata": {},
   "source": [
    "## Inspect the model (II)\n",
    "\n",
    "Now you should take a look at the weights for this model. In particular, note the last weight of the model. This weight converts the predicted score difference to a predicted win probability. If you multiply the predicted score difference by the last weight of the model and then apply the sigmoid function, you get the win probability of the game.\n"
   ]
  },
  {
   "cell_type": "code",
   "execution_count": 96,
   "metadata": {},
   "outputs": [
    {
     "name": "stdout",
     "output_type": "stream",
     "text": [
      "[array([[ 0.9774287],\n",
      "       [-1.1267143]], dtype=float32), array([[-1.4007249]], dtype=float32)]\n",
      "season        1997.045455\n",
      "team_1        5546.025568\n",
      "team_2        5546.025568\n",
      "home             0.000000\n",
      "seed_diff        0.000000\n",
      "score_diff       0.000000\n",
      "score_1         71.912247\n",
      "score_2         71.912247\n",
      "won              0.500000\n",
      "pred             0.155596\n",
      "dtype: float64\n"
     ]
    }
   ],
   "source": [
    "# Print the model weights\n",
    "print(model.get_weights())\n",
    "\n",
    "# Print the training data means\n",
    "print(games_tourney_train.mean())"
   ]
  },
  {
   "cell_type": "markdown",
   "metadata": {},
   "source": [
    "## Instructions 2/2\n",
    "\n",
    "- Print the approximate win probability predicted for a close game (1 point difference).\n",
    "- Print the approximate win probability predicted blowout game (10 point difference)."
   ]
  },
  {
   "cell_type": "code",
   "execution_count": 97,
   "metadata": {},
   "outputs": [
    {
     "name": "stdout",
     "output_type": "stream",
     "text": [
      "0.5349429451582145\n",
      "0.8021838885585818\n"
     ]
    }
   ],
   "source": [
    "# Import the sigmoid function from scipy\n",
    "from scipy.special import expit as sigmoid\n",
    "\n",
    "# Weight from the model\n",
    "weight = 0.14\n",
    "\n",
    "# Print the approximate win probability of a predicted close game\n",
    "print(sigmoid(1 * weight))\n",
    "\n",
    "# Print the approximate win probability of a predicted blowout game\n",
    "print(sigmoid(10 * weight))"
   ]
  },
  {
   "cell_type": "markdown",
   "metadata": {},
   "source": [
    "- So sigmoid(1 * 0.14) is 0.53, which represents a pretty close game and sigmoid(10 * 0.14) is 0.80, which represents a pretty likely win. In other words, if the model predicts a win of 1 point, it is less sure of the win than if it predicts 10 points. Who says neural networks are black boxes?"
   ]
  },
  {
   "cell_type": "markdown",
   "metadata": {},
   "source": [
    "## Evaluate on new data with two metrics\n",
    "\n",
    "\n",
    "Now that you've fit your model and inspected its weights to make sure they make sense, evaluate your model on the tournament test set to see how well it does on new data.\n",
    "\n",
    "Note that in this case, Keras will return 3 numbers: the first number will be the sum of both the loss functions, and then the next 2 numbers will be the loss functions you used when defining the model."
   ]
  },
  {
   "cell_type": "markdown",
   "metadata": {},
   "source": [
    "## Instructions\n",
    "\n",
    "Evaluate the model on games_tourney_test.\n",
    "Use the same inputs and outputs as the training set."
   ]
  },
  {
   "cell_type": "code",
   "execution_count": 98,
   "metadata": {},
   "outputs": [
    {
     "name": "stdout",
     "output_type": "stream",
     "text": [
      "1066/1066 [==============================] - 0s 145us/step\n"
     ]
    },
    {
     "data": {
      "text/plain": [
       "[15.263273561202116, 9.091030417866376, 6.1722432533750835]"
      ]
     },
     "execution_count": 98,
     "metadata": {},
     "output_type": "execute_result"
    }
   ],
   "source": [
    "# Evaluate the model on new data\n",
    "model.evaluate(games_tourney_test[['seed_diff', 'pred']],\n",
    "               [games_tourney_test[['score_diff']], games_tourney_test[['won']]])"
   ]
  },
  {
   "cell_type": "markdown",
   "metadata": {},
   "source": [
    "<img src=\"images/62.PNG\" > "
   ]
  },
  {
   "cell_type": "markdown",
   "metadata": {},
   "source": [
    "<img src=\"images/63.PNG\" > "
   ]
  }
 ],
 "metadata": {
  "kernelspec": {
   "display_name": "Python 3",
   "language": "python",
   "name": "python3"
  },
  "language_info": {
   "codemirror_mode": {
    "name": "ipython",
    "version": 3
   },
   "file_extension": ".py",
   "mimetype": "text/x-python",
   "name": "python",
   "nbconvert_exporter": "python",
   "pygments_lexer": "ipython3",
   "version": "3.6.7"
  }
 },
 "nbformat": 4,
 "nbformat_minor": 2
}
